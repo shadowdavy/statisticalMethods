{
 "cells": [
  {
   "cell_type": "markdown",
   "metadata": {},
   "source": [
    "# Statistical Methods (SS18) {-}\n",
    "## David Bubeck, Henrik Lukas Ruh & Manuel Bayer {-}\n",
    "## Exercise 6 for August 14, 2018, 9:00 {-}"
   ]
  },
  {
   "cell_type": "markdown",
   "metadata": {},
   "source": [
    "## Maximum Likelihood Estimation {-}"
   ]
  },
  {
   "cell_type": "markdown",
   "metadata": {},
   "source": [
    "### 6.1 Planning an experiment: Test the quality of a die {-}"
   ]
  },
  {
   "cell_type": "markdown",
   "metadata": {},
   "source": [
    "An experiment is to be conducted where the proper behavior of a die is checked. The probability of rolling a “one” is measured for checking against the expected probability for a fair die ($p=1/6$). The experiment is performed in the following way: the die is rolled $N=10$ times and the number of “ones” in these $N$ rolls $r$ is recorded. This counting is repeated $K$-times. The data that you finally have available are $r_k$ counts where $k = 1, . . . ,K$. For a fair die the $r_k$ should obviously follow a binomial distribution $$\\mathrm{P}(r_k|N,p)=\\binom{N}{r_k}p^{r_k}(1-p)^{N-r_k},$$"
   ]
  },
  {
   "cell_type": "markdown",
   "metadata": {},
   "source": [
    "**a:** For this set-up, show that the ML estimators for the probability $\\hat{p}$ and its variance $\\mathrm{Var}\\left[\\hat{p}\\right]$ are $$\\hat{p}=\\frac{1}{KN}\\sum_{k=1}^K r_k,$$ and $$\\mathrm{Var}\\left[\\hat{p}\\right]\\geq\\frac{\\hat{p}\\left(1-\\hat{p}\\right)}{KN}.$$ "
   ]
  },
  {
   "cell_type": "markdown",
   "metadata": {},
   "source": [
    "$$\\mathcal{L}=\\prod_{k=1}^K \\mathrm{P}(r_k|N,p)=\\prod_{k=1}^K\\binom{N}{r_k}p^{r_k}(1-p)^{N-r_k}\\Rightarrow l\\left(\\{r_k\\}|p\\right)=\\ln\\mathcal{L}$$ $$=\\sum_{k=1}^K\\ln\\binom{N}{r_k}+\\sum_{k=1}^K r_k\\ln p+\\sum_{k=1}^K(N-r_k)\\ln(1-p)\\Rightarrow\\frac{\\partial l\\left(\\{r_k\\}|p\\right)}{\\partial p}(\\hat{p})=\\sum_{k=1}^K\\left(\\frac{r_k}{\\hat{p}}-\\frac{N-r_k}{1-\\hat{p}}\\right)$$ $$+\\sum_{k=1}^K\\left(\\frac{r_k(1-\\hat{p})-\\hat{p}(N-r_k)}{\\hat{p}(1-\\hat{p})}\\right)=0\\Leftrightarrow{\\sum_{k=1}^K\\left(r_k-r_k\\hat{p}-\\hat{p}N+\\hat{p}r_k\\right)=0=\\sum_{k=1}^K\\left(r_k-\\hat{p}N\\right)}\\Leftrightarrow\\sum_{k=1}^K\\hat{p}N=\\sum_{k=1}^K r_k$$ $$=\\hat{p}N\\sum_{k=1}^K 1=\\hat{p}NK\\Leftrightarrow\\hat{p}=\\frac{1}{KN}\\sum_{k=1}^K r_k$$"
   ]
  },
  {
   "cell_type": "markdown",
   "metadata": {},
   "source": [
    "$${\\frac{\\partial^2l\\left(\\{r_k\\}|p\\right)}{\\partial p^2}(\\hat{p})=-\\frac{1}{\\hat{p}^2}\\sum_{k=1}^K r_k-\\frac{1}{\\left(1-\\hat{p}\\right)^2}\\sum_{k=1}^K(N-r_k)=-\\sum_{k=1}^K\\frac{r_k\\left(1-\\hat{p}\\right)^2+\\hat{p}^2(N-r_k)}{\\hat{p}^2\\left(1-\\hat{p}\\right)^2}}$$\n",
    "According to the Cramer-Rao inequality\n",
    "$$\\Rightarrow\\mathrm{Var}\\left[\\hat{p}\\right]\\geq-\\left(\\frac{\\partial^2l\\left(\\{r_k\\}|p\\right)}{\\partial p^2}(\\hat{p})\\right)^{-1}=\\frac{1}{\\sum_{k=1}^K\\frac{r_k\\left(1-\\hat{p}\\right)^2+\\hat{p}^2(N-r_k)}{\\hat{p}^2\\left(1-\\hat{p}\\right)^2}}=\\frac{\\hat{p}^2\\left(1-\\hat{p}\\right)^2}{\\sum_{k=1}^Kr_k\\left(1-\\hat{p}\\right)^2+\\hat{p}^2(N-r_k)}$$ $$=\\frac{\\hat{p}^2\\left(1-\\hat{p}\\right)^2}{\\sum_{k=1}^K\\left(r_k-2r_k\\hat{p}+r_k\\hat{p}^2+\\hat{p}^2N-\\hat{p}^2r_k\\right)}=\\frac{\\hat{p}^2\\left(1-\\hat{p}\\right)^2}{\\sum_{k=1}^K\\left(r_k-2r_k\\hat{p}+\\hat{p}^2N\\right)}=\\frac{\\hat{p}\\left(1-\\hat{p}\\right)^2}{\\sum_{k=1}^K\\left(\\frac{r_k}{\\hat{p}}-2r_k+\\hat{p}N\\right)}$$ $$=\\frac{\\hat{p}\\left(1-\\hat{p}\\right)^2}{\\frac{1}{\\hat{p}}\\sum_{k=1}^Kr_k-2\\sum_{k=1}^Kr_k+KN\\hat{p}}=\\frac{\\hat{p}\\left(1-\\hat{p}\\right)^2}{KN\\frac{1}{\\sum_{k=1}^Kr_k}\\sum_{k=1}^Kr_k-2\\sum_{k=1}^Kr_k+\\sum_{k=1}^Kr_k}=\\frac{\\hat{p}\\left(1-\\hat{p}\\right)^2}{KN(1-\\hat{p})}=\\frac{\\hat{p}\\left(1-\\hat{p}\\right)}{KN}$$"
   ]
  },
  {
   "cell_type": "markdown",
   "metadata": {},
   "source": [
    "### 6.2 Fitting a straight line with known uncertainties in y  {-}\n",
    "The next two exercises are taken from the paper of Hogg et al. \"Fitting a straight line to data\". Have perhaps a look at their section 1 for verifying your solutions.\n",
    "Using the linear algebra as given in the lecture, or the formulation in the article by Hogg et al. (in Moodle), fitt a straight line $y = mx + b$ to the $x$, $y$, and $\\sigma_y$ values for data points 5 through 20 in the table in the file hogg table1.txt (in Moodle). That is, ignore the first four data points, and also ignore the columns for $\\sigma_y$ and Cor[x; y].\n",
    "##### a: Write an R-program to calculate the best fitting parameters m, and b, their uncertainties, covariance, and $\\chi^2$ of the fit!"
   ]
  },
  {
   "cell_type": "code",
   "execution_count": 1,
   "metadata": {},
   "outputs": [
    {
     "data": {
      "text/html": [
       "<table>\n",
       "<thead><tr><th></th><th scope=col>ID</th><th scope=col>x</th><th scope=col>y</th><th scope=col>sigy</th><th scope=col>sigx</th><th scope=col>rhoxy</th></tr></thead>\n",
       "<tbody>\n",
       "\t<tr><th scope=row>5</th><td> 5   </td><td>203  </td><td>495  </td><td>21   </td><td> 5   </td><td>-0.33</td></tr>\n",
       "\t<tr><th scope=row>6</th><td> 6   </td><td> 58  </td><td>173  </td><td>15   </td><td> 9   </td><td> 0.67</td></tr>\n",
       "\t<tr><th scope=row>7</th><td> 7   </td><td>210  </td><td>479  </td><td>27   </td><td> 4   </td><td>-0.02</td></tr>\n",
       "\t<tr><th scope=row>8</th><td> 8   </td><td>202  </td><td>504  </td><td>14   </td><td> 4   </td><td>-0.05</td></tr>\n",
       "\t<tr><th scope=row>9</th><td> 9   </td><td>198  </td><td>510  </td><td>30   </td><td>11   </td><td>-0.84</td></tr>\n",
       "\t<tr><th scope=row>10</th><td>10   </td><td>158  </td><td>416  </td><td>16   </td><td> 7   </td><td>-0.69</td></tr>\n",
       "</tbody>\n",
       "</table>\n"
      ],
      "text/latex": [
       "\\begin{tabular}{r|llllll}\n",
       "  & ID & x & y & sigy & sigx & rhoxy\\\\\n",
       "\\hline\n",
       "\t5 &  5    & 203   & 495   & 21    &  5    & -0.33\\\\\n",
       "\t6 &  6    &  58   & 173   & 15    &  9    &  0.67\\\\\n",
       "\t7 &  7    & 210   & 479   & 27    &  4    & -0.02\\\\\n",
       "\t8 &  8    & 202   & 504   & 14    &  4    & -0.05\\\\\n",
       "\t9 &  9    & 198   & 510   & 30    & 11    & -0.84\\\\\n",
       "\t10 & 10    & 158   & 416   & 16    &  7    & -0.69\\\\\n",
       "\\end{tabular}\n"
      ],
      "text/markdown": [
       "\n",
       "| <!--/--> | ID | x | y | sigy | sigx | rhoxy | \n",
       "|---|---|---|---|---|---|\n",
       "| 5 |  5    | 203   | 495   | 21    |  5    | -0.33 | \n",
       "| 6 |  6    |  58   | 173   | 15    |  9    |  0.67 | \n",
       "| 7 |  7    | 210   | 479   | 27    |  4    | -0.02 | \n",
       "| 8 |  8    | 202   | 504   | 14    |  4    | -0.05 | \n",
       "| 9 |  9    | 198   | 510   | 30    | 11    | -0.84 | \n",
       "| 10 | 10    | 158   | 416   | 16    |  7    | -0.69 | \n",
       "\n",
       "\n"
      ],
      "text/plain": [
       "   ID x   y   sigy sigx rhoxy\n",
       "5   5 203 495 21    5   -0.33\n",
       "6   6  58 173 15    9    0.67\n",
       "7   7 210 479 27    4   -0.02\n",
       "8   8 202 504 14    4   -0.05\n",
       "9   9 198 510 30   11   -0.84\n",
       "10 10 158 416 16    7   -0.69"
      ]
     },
     "metadata": {},
     "output_type": "display_data"
    }
   ],
   "source": [
    "# read in data\n",
    "data_all <- read.table(\"hogg_table1.txt \", header=TRUE)\n",
    "data <- data_all[5:20,]\n",
    "\n",
    "# display some of the data\n",
    "head(data)"
   ]
  },
  {
   "cell_type": "code",
   "execution_count": 2,
   "metadata": {},
   "outputs": [
    {
     "name": "stdout",
     "output_type": "stream",
     "text": [
      "m = 2.239921 +/- 0.1077805\n",
      "b = 34.04773 +/- 18.24617\n",
      "chi^2 = 18.68077\n",
      "\n",
      "COV[(b,m)^T,(b,m))] = N^-1 = "
     ]
    },
    {
     "data": {
      "text/html": [
       "<table>\n",
       "<tbody>\n",
       "\t<tr><td>332.922601 </td><td>-1.88954491</td></tr>\n",
       "\t<tr><td> -1.889545 </td><td> 0.01161663</td></tr>\n",
       "</tbody>\n",
       "</table>\n"
      ],
      "text/latex": [
       "\\begin{tabular}{ll}\n",
       "\t 332.922601  & -1.88954491\\\\\n",
       "\t  -1.889545  &  0.01161663\\\\\n",
       "\\end{tabular}\n"
      ],
      "text/markdown": [
       "\n",
       "| 332.922601  | -1.88954491 | \n",
       "|  -1.889545  |  0.01161663 | \n",
       "\n",
       "\n"
      ],
      "text/plain": [
       "     [,1]       [,2]       \n",
       "[1,] 332.922601 -1.88954491\n",
       "[2,]  -1.889545  0.01161663"
      ]
     },
     "metadata": {},
     "output_type": "display_data"
    }
   ],
   "source": [
    "# compute normal equation matrix\n",
    "N <- matrix(c(sum(data$sigy**-2),sum(data$x*data$sigy**-2)\n",
    "              ,sum(data$x*data$sigy**-2),sum(data$x**2*data$sigy**-2)),2,2)\n",
    "\n",
    "# RHS\n",
    "v <- c(sum(data$y*data$sigy**-2),sum(data$x*data$y*data$sigy**-2))\n",
    "\n",
    "# solve the linear equation\n",
    "vars <- solve(N,v)\n",
    "\n",
    "# compute uncertainties\n",
    "library('MASS')\n",
    "cov <- ginv(N)\n",
    "\n",
    "vars_sigma <- c(cov[1,1]**0.5,cov[2,2]**0.5)\n",
    "\n",
    "b <- c(vars[1],vars_sigma[1])\n",
    "m <- c(vars[2],vars_sigma[2])\n",
    "\n",
    "# chi square\n",
    "chi_sq <- sum((data$y-b[1]-m[1]*data$x)**2*data$sigy**-2)\n",
    "\n",
    "# print results\n",
    "cat('m =',m[1],'+/-',m[2])\n",
    "cat('\\nb =',b[1],'+/-',b[2])\n",
    "cat('\\nchi^2 =',chi_sq)\n",
    "cat('\\n\\nCOV[(b,m)^T,(b,m))] = N^-1 = ')\n",
    "cov"
   ]
  },
  {
   "cell_type": "markdown",
   "metadata": {},
   "source": [
    "##### b: Make a plot showing the points, their uncertainties, and the best-fit line! Hint: error bars can be plotted by using arrows, e.g.:\n",
    "\n",
    "arrows(x, y-sigy, x, y+sigy, length=0.05, angle=90, code=3)"
   ]
  },
  {
   "cell_type": "code",
   "execution_count": 3,
   "metadata": {},
   "outputs": [
    {
     "data": {
      "image/png": "[encoded data removed]",
      "text/plain": [
       "plot without title"
      ]
     },
     "metadata": {},
     "output_type": "display_data"
    }
   ],
   "source": [
    "# plot the data\n",
    "plot(data$x,data$y,xlab='x',ylab='y')\n",
    "arrows(data$x, data$y-data$sigy, data$x, data$y+data$sigy, length=0.05, angle=90,\n",
    "       code=3)\n",
    "arrows(data$x-data$sigx, data$y, data$x+data$sigx, data$y, length=0.05, angle=90,\n",
    "       code=3)\n",
    "\n",
    "# fitted line\n",
    "lines(c(min(data$x),max(data$x)),c(m[1]*min(data$x)+b[1],m[1]*max(data$x)+b[1]),\n",
    "      col='red')\n",
    "\n",
    "# legend\n",
    "legend(\"bottomright\", legend=c('data','fitted line'), inset=.05, \n",
    "       lwd=2, col=c('black','red'))"
   ]
  },
  {
   "cell_type": "markdown",
   "metadata": {},
   "source": [
    "##### c: Do you have an idea how to illustrate the uncertainty of the location of the fitting line?"
   ]
  },
  {
   "cell_type": "markdown",
   "metadata": {},
   "source": [
    "#### A: \n",
    "\n",
    "We can use error propagation to compute the errors on the fitted line at each point. Here, it is necessary to include the correlation term in the formular for the error propagation. This term is only zero in the case of independant parameters. As can be seen from the covariance matrix, the m and b are not independent.\n",
    "\n",
    "The general formulation of the error propagation is given by\n",
    "$$\n",
    "\\sigma_y=\\sqrt{ \\operatorname{grad}y \\cdot \\mathrm{COV}[\\hat\\theta,\\hat\\theta^T] \\cdot \\operatorname{grad}y^T }.\n",
    "$$\n",
    "For our linear function $y=mx+b$ this gives\n",
    "$$\n",
    "\\sigma_y=\\sqrt{ \\left( x\\sigma_m\\right)^2+\\sigma_b^2 + 2x\\sigma_{mb}}.\n",
    "$$"
   ]
  },
  {
   "cell_type": "code",
   "execution_count": 4,
   "metadata": {},
   "outputs": [
    {
     "data": {
      "image/png": "[encoded data removed]",
      "text/plain": [
       "plot without title"
      ]
     },
     "metadata": {},
     "output_type": "display_data"
    }
   ],
   "source": [
    "# plotting range\n",
    "plot_val <- seq(min(data$x), max(data$x), length=100000)\n",
    "\n",
    "# best fitting line\n",
    "ymod <- m[1] * plot_val + b[1] # y-values of the best fitting line\n",
    "\n",
    "# Uncertainty of location of best fitting line \n",
    "#(The used formula results from error propagation neglecting the error of x)\n",
    "ymod_uncertainty <- sqrt((plot_val * m[2]) ** 2 + b[2] ** 2 + 2 * plot_val * cov[1,2]) \n",
    "\n",
    "# plot points, fit, and confidence region\n",
    "plot(data$x,data$y,xlab='x',ylab='y')\n",
    "# Illustration of the uncertainty of the location of the fitting line\n",
    "polygon(c(plot_val, rev(plot_val)), c(ymod - ymod_uncertainty, rev(ymod +\n",
    "                                                                   ymod_uncertainty)), \n",
    "        col = 'mistyrose', border = F) \n",
    "lines(plot_val, ymod, type=\"l\",col='red')\n",
    "points(data$x, data$y, xlab=\"x\", ylab=\"y\")\n",
    "arrows(data$x, data$y-data$sigy, data$x, data$y+data$sigy, length=0.05, angle=90,\n",
    "       code=3)\n",
    "arrows(data$x-data$sigx, data$y, data$x+data$sigx, data$y, length=0.05, angle=90,\n",
    "       code=3)\n",
    "\n",
    "# legend\n",
    "legend(\"bottomright\", legend=c('data','fitted line','confidence region'), inset=.05, \n",
    "       lwd=2, col=c('black','red','mistyrose'))"
   ]
  },
  {
   "cell_type": "markdown",
   "metadata": {},
   "source": [
    "##### d: Repeat the previous exercise but for all the data points in the table! Is there anything you do not like about the result?\n",
    "##### A:\n",
    "Clearly, there are lots of outlayers. Therefore, the uncertainties of the fitting parameters grow. Especially, we observe that the $\\chi^2$ value is much larger than before."
   ]
  },
  {
   "cell_type": "code",
   "execution_count": 5,
   "metadata": {},
   "outputs": [
    {
     "name": "stdout",
     "output_type": "stream",
     "text": [
      "m = 1.076748 +/- 0.07740678\n",
      "b = 213.2735 +/- 14.39403\n",
      "chi^2 = 289.9637\n",
      "\n",
      "COV[(b,m)^T,(b,m))] = N^-1 = "
     ]
    },
    {
     "data": {
      "text/html": [
       "<table>\n",
       "<tbody>\n",
       "\t<tr><td>207.188189 </td><td>-1.05427206</td></tr>\n",
       "\t<tr><td> -1.054272 </td><td> 0.00599181</td></tr>\n",
       "</tbody>\n",
       "</table>\n"
      ],
      "text/latex": [
       "\\begin{tabular}{ll}\n",
       "\t 207.188189  & -1.05427206\\\\\n",
       "\t  -1.054272  &  0.00599181\\\\\n",
       "\\end{tabular}\n"
      ],
      "text/markdown": [
       "\n",
       "| 207.188189  | -1.05427206 | \n",
       "|  -1.054272  |  0.00599181 | \n",
       "\n",
       "\n"
      ],
      "text/plain": [
       "     [,1]       [,2]       \n",
       "[1,] 207.188189 -1.05427206\n",
       "[2,]  -1.054272  0.00599181"
      ]
     },
     "metadata": {},
     "output_type": "display_data"
    }
   ],
   "source": [
    "# change data variable to complete set\n",
    "data <- data_all\n",
    "\n",
    "# compute normal equation matrix\n",
    "N <- matrix(c(sum(data$sigy**-2),sum(data$x*data$sigy**-2),\n",
    "              sum(data$x*data$sigy**-2),sum(data$x**2*data$sigy**-2)),2,2)\n",
    "\n",
    "# RHS\n",
    "v <- c(sum(data$y*data$sigy**-2),sum(data$x*data$y*data$sigy**-2))\n",
    "\n",
    "# solve the linear equation\n",
    "vars <- solve(N,v)\n",
    "\n",
    "# compute uncertainties\n",
    "library('MASS')\n",
    "cov <- ginv(N)\n",
    "\n",
    "vars_sigma <- c(cov[1,1]**0.5,cov[2,2]**0.5)\n",
    "\n",
    "b <- c(vars[1],vars_sigma[1])\n",
    "m <- c(vars[2],vars_sigma[2])\n",
    "\n",
    "# chi square\n",
    "chi_sq <- sum((data$y-b[1]-m[1]*data$x)**2*data$sigy**-2)\n",
    "\n",
    "# print results\n",
    "cat('m =',m[1],'+/-',m[2])\n",
    "cat('\\nb =',b[1],'+/-',b[2])\n",
    "cat('\\nchi^2 =',chi_sq)\n",
    "cat('\\n\\nCOV[(b,m)^T,(b,m))] = N^-1 = ')\n",
    "cov"
   ]
  },
  {
   "cell_type": "code",
   "execution_count": 6,
   "metadata": {},
   "outputs": [
    {
     "data": {
      "image/png": "[encoded data removed]",
      "text/plain": [
       "plot without title"
      ]
     },
     "metadata": {},
     "output_type": "display_data"
    }
   ],
   "source": [
    "# plotting\n",
    "\n",
    "# plotting range\n",
    "plot_val <- seq(min(data$x), max(data$x), length=100000)\n",
    "\n",
    "# best fitting line\n",
    "ymod <- m[1] * plot_val + b[1] # y-values of the best fitting line\n",
    "\n",
    "# Uncertainty of location of best fitting line \n",
    "#(The used formula results from error propagation neglecting the error of x)\n",
    "ymod_uncertainty <- sqrt((plot_val * m[2]) ** 2 + b[2] ** 2 + 2 * plot_val * cov[1,2]) \n",
    "\n",
    "# plot points, fit, and confidence region\n",
    "plot(data$x,data$y,xlab='x',ylab='y')\n",
    "# Illustration of the uncertainty of the location of the fitting line\n",
    "polygon(c(plot_val, rev(plot_val)), c(ymod - ymod_uncertainty, rev(ymod +\n",
    "                                                                   ymod_uncertainty)), \n",
    "        col = 'mistyrose', border = F) \n",
    "lines(plot_val, ymod, type=\"l\",col='red')\n",
    "points(data$x, data$y, xlab=\"x\", ylab=\"y\")\n",
    "arrows(data$x, data$y-data$sigy, data$x, data$y+data$sigy, length=0.05, angle=90,\n",
    "       code=3)\n",
    "arrows(data$x-data$sigx, data$y, data$x+data$sigx, data$y, length=0.05, angle=90,\n",
    "       code=3)\n",
    "\n",
    "# legend\n",
    "legend(\"bottomright\", legend=c('data','fitted line','confidence region'), inset=.05, \n",
    "       lwd=2, col=c('black','red','mistyrose'))"
   ]
  },
  {
   "cell_type": "markdown",
   "metadata": {},
   "source": [
    "##### e: Of course, as statistics oriented programming language R has build in the fitting of linear models with the command lm. Compare lm results to yours. \n",
    "Hint: lm might appear a bit cryptic. Have a look at the example below for inspiration.\n",
    "\n",
    "lm(formula = y ~ x + I(x^2), data = table_hogg, subset = (5:20),\n",
    "weights=1.0/table_hogg$sigy^2)\n",
    "\n",
    "Note that the \"std. error\" in the output of lm() are not the 1 $\\sigma$ error bars but auxiliary quantities\n",
    "useful in combination with t-statistics."
   ]
  },
  {
   "cell_type": "code",
   "execution_count": 7,
   "metadata": {},
   "outputs": [
    {
     "data": {
      "text/plain": [
       "\n",
       "Call:\n",
       "lm(formula = y ~ x, data = data, subset = (5:20), weights = 1/data$sigy^2)\n",
       "\n",
       "Weighted Residuals:\n",
       "    Min      1Q  Median      3Q     Max \n",
       "-1.7882 -0.9639 -0.4158  0.6911  1.7528 \n",
       "\n",
       "Coefficients:\n",
       "            Estimate Std. Error t value Pr(>|t|)    \n",
       "(Intercept)  34.0477    21.0768   1.615    0.129    \n",
       "x             2.2399     0.1245  17.991 4.49e-11 ***\n",
       "---\n",
       "Signif. codes:  0 '***' 0.001 '**' 0.01 '*' 0.05 '.' 0.1 ' ' 1\n",
       "\n",
       "Residual standard error: 1.155 on 14 degrees of freedom\n",
       "Multiple R-squared:  0.9585,\tAdjusted R-squared:  0.9556 \n",
       "F-statistic: 323.7 on 1 and 14 DF,  p-value: 4.493e-11\n"
      ]
     },
     "metadata": {},
     "output_type": "display_data"
    }
   ],
   "source": [
    "summary(lm(formula = y ~ x, data = data, subset \n",
    "           = (5:20), weights=1.0/data$sigy^2))"
   ]
  },
  {
   "cell_type": "markdown",
   "metadata": {},
   "source": [
    "The lm function gives similar results to the ones we found in our first fit."
   ]
  },
  {
   "cell_type": "markdown",
   "metadata": {},
   "source": [
    "# 6.3 Fitting a quadratic model\n",
    "Generalize the method of this Section to fit a general quadratic (second order) relationship $g(x) =\n",
    "qx^2 + mx + b$. Then re-do the fitting for the case without outliers. What is the best quadratic\n",
    "relationship?"
   ]
  },
  {
   "cell_type": "code",
   "execution_count": 10,
   "metadata": {},
   "outputs": [
    {
     "name": "stdout",
     "output_type": "stream",
     "text": [
      "\n",
      "b = 72.89463 +/- 0.00252566\n",
      "m = 1.59605 +/- 0.1781313\n",
      "q = 0.002298888 +/- 0.0009535895\n",
      "chi^2 = 17.40317\n",
      "\n",
      "COV[(b,m,q),(b,m,q)^T)] = N^-1 = "
     ]
    },
    {
     "data": {
      "text/html": [
       "<table>\n",
       "<tbody>\n",
       "\t<tr><td> 6.378961e-06</td><td> 0.0004498992</td><td>-2.374346e-06</td></tr>\n",
       "\t<tr><td> 4.498992e-04</td><td> 0.0317307640</td><td>-1.674592e-04</td></tr>\n",
       "\t<tr><td>-2.374346e-06</td><td>-0.0001674592</td><td> 9.093330e-07</td></tr>\n",
       "</tbody>\n",
       "</table>\n"
      ],
      "text/latex": [
       "\\begin{tabular}{lll}\n",
       "\t  6.378961e-06 &  0.0004498992 & -2.374346e-06\\\\\n",
       "\t  4.498992e-04 &  0.0317307640 & -1.674592e-04\\\\\n",
       "\t -2.374346e-06 & -0.0001674592 &  9.093330e-07\\\\\n",
       "\\end{tabular}\n"
      ],
      "text/markdown": [
       "\n",
       "|  6.378961e-06 |  0.0004498992 | -2.374346e-06 | \n",
       "|  4.498992e-04 |  0.0317307640 | -1.674592e-04 | \n",
       "| -2.374346e-06 | -0.0001674592 |  9.093330e-07 | \n",
       "\n",
       "\n"
      ],
      "text/plain": [
       "     [,1]          [,2]          [,3]         \n",
       "[1,]  6.378961e-06  0.0004498992 -2.374346e-06\n",
       "[2,]  4.498992e-04  0.0317307640 -1.674592e-04\n",
       "[3,] -2.374346e-06 -0.0001674592  9.093330e-07"
      ]
     },
     "metadata": {},
     "output_type": "display_data"
    }
   ],
   "source": [
    "# do the same steps as before\n",
    "data <- data_all[5:20,]\n",
    "\n",
    "# compute normal equation matrix\n",
    "N <- matrix(0, nrow = 3, ncol = 3)\n",
    "# fill values into the normal equation matrix\n",
    "# first fill the rows in the first column, than second and so on\n",
    "for (i in 1:3) {\n",
    "    for (j in 1:3) {\n",
    "        N[j, i] <- sum(data$x**(i+j-2)*data$sigy**-2)\n",
    "        }\n",
    "    }\n",
    "\n",
    "# RHS\n",
    "v <- c(sum(data$y*data$sigy**-2),sum(data$x*data$y*data$sigy**-2),\n",
    "       sum(data$x**2*data$y*data$sigy**-2))\n",
    "\n",
    "# solve the linear equation\n",
    "vars <- solve(N,v)\n",
    "\n",
    "# compute uncertainties\n",
    "library('MASS')\n",
    "cov <- ginv(N)\n",
    "\n",
    "vars_sigma <- c(cov[1,1]**0.5,cov[2,2]**0.5,cov[3,3]**0.5)\n",
    "\n",
    "b <- c(vars[1],vars_sigma[1])\n",
    "m <- c(vars[2],vars_sigma[2])\n",
    "q <- c(vars[3],vars_sigma[3])\n",
    "\n",
    "# chi square\n",
    "chi_sq <- sum((data$y-b[1]-m[1]*data$x-q[1]*data$x**2)**2*data$sigy**-2)\n",
    "\n",
    "# print results\n",
    "cat('\\nb =',b[1],'+/-',b[2])\n",
    "cat('\\nm =',m[1],'+/-',m[2])\n",
    "cat('\\nq =',q[1],'+/-',q[2])\n",
    "cat('\\nchi^2 =',chi_sq)\n",
    "cat('\\n\\nCOV[(b,m,q),(b,m,q)^T)] = N^-1 = ')\n",
    "cov"
   ]
  },
  {
   "cell_type": "markdown",
   "metadata": {
    "collapsed": true
   },
   "source": [
    "Now we have three dependent parameters and the error of the function at each point is again given by the error propagation equation \n",
    "$$\n",
    "\\sigma_y=\\sqrt{ \\operatorname{grad}y \\cdot \\mathrm{COV}[\\hat\\theta,\\hat\\theta^T] \\cdot \\operatorname{grad}y^T },\n",
    "$$\n",
    "where we now get\n",
    "$$\n",
    "\\sigma_y=\\sqrt{ \\left( x^2\\sigma_q\\right)^2+\\left( x\\sigma_m\\right)^2+\\sigma_b^2 + 2x^3\\sigma_{qm} + 2x^2\\sigma_{qb} + 2x\\sigma_{mb}}.\n",
    "$$"
   ]
  },
  {
   "cell_type": "code",
   "execution_count": 11,
   "metadata": {},
   "outputs": [
    {
     "data": {
      "image/png": "[encoded data removed]",
      "text/plain": [
       "plot without title"
      ]
     },
     "metadata": {},
     "output_type": "display_data"
    }
   ],
   "source": [
    "# plot degree 2 fit\n",
    "\n",
    "# plotting range\n",
    "plot_val <- seq(min(data$x), max(data$x), length=100000)\n",
    "\n",
    "# fitted polynom\n",
    "pol2 <- function(q,m,b,x) return(q*x**2+m*x+b)\n",
    "    \n",
    "# best fitting line\n",
    "ymod <- pol2(q[1],m[1],b[1],plot_val) # y-values of the best fitting line\n",
    "\n",
    "# Uncertainty of location of best fitting line \n",
    "#(The used formula results from error propagation neglecting the error of x)\n",
    "ymod_uncertainty <- sqrt((plot_val**2 * q[2]) ** 2 + (plot_val * m[2]) ** 2 +\n",
    "                         b[2] ** 2 + 2 * plot_val ** 3 * cov[2,3] + 2 *\n",
    "                         plot_val ** 2 * cov[1,3] + 2 * plot_val * cov[1,2]) \n",
    "\n",
    "# plot points, fit, and confidence region\n",
    "plot(data$x,data$y,xlab='x',ylab='y')\n",
    "    \n",
    "# Illustration of the uncertainty of the location of the fitting line\n",
    "polygon(c(plot_val, rev(plot_val)), c(ymod - ymod_uncertainty, rev(ymod +\n",
    "                                                                   ymod_uncertainty)), \n",
    "        col = 'mistyrose', border = F) \n",
    "lines(plot_val, ymod, type=\"l\",col='red')\n",
    "points(data$x, data$y, xlab=\"x\", ylab=\"y\")\n",
    "arrows(data$x, data$y-data$sigy, data$x, data$y+data$sigy, length=0.05, angle=90,\n",
    "       code=3)\n",
    "arrows(data$x-data$sigx, data$y, data$x+data$sigx, data$y, length=0.05, angle=90,\n",
    "       code=3)\n",
    "\n",
    "# legend\n",
    "legend(\"bottomright\", legend=c('data','fitted line','confidence region'), inset=.05, \n",
    "       lwd=2, col=c('black','red','mistyrose'))"
   ]
  }
 ],
 "metadata": {
  "anaconda-cloud": {},
  "kernelspec": {
   "display_name": "R",
   "language": "R",
   "name": "ir"
  },
  "language_info": {
   "codemirror_mode": "r",
   "file_extension": ".r",
   "mimetype": "text/x-r-source",
   "name": "R",
   "pygments_lexer": "r",
   "version": "3.5.0"
  }
 },
 "nbformat": 4,
 "nbformat_minor": 2
}
