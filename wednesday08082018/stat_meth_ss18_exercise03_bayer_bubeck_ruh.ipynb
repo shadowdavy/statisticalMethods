{
 "cells": [
  {
   "cell_type": "markdown",
   "metadata": {},
   "source": [
    "# Statistical Methods (SS18) {-}\n",
    "## David Bubeck, Henrik Lukas Ruh & Manuel Bayer {-}\n",
    "## Exercise 3 for August 9, 2018, 9:00 {-}"
   ]
  },
  {
   "cell_type": "markdown",
   "metadata": {},
   "source": [
    "### 3.1 A graphical demonstration of the central limit theorem {-}\n",
    "Give a graphical demonstration of the central limit theorem. To this end, average a number of N of\n",
    "very non-Gaussian uniform distributions U(0; 4) (note lower and upper limit!).\n",
    "\n",
    "#### a: Plot a series of histograms demonstrating the convergence with increasing number N. Choose resonable axis-scalings. Overlay the expected normal distribution. Hint: if you have trouble with the normalization of the histogram, you may try truehist() from the library MASS instead of hist.\n"
   ]
  },
  {
   "cell_type": "code",
   "execution_count": 365,
   "metadata": {},
   "outputs": [
    {
     "data": {
      "image/png": "[encoded data removed]",
      "text/plain": [
       "Plot with title \"100\""
      ]
     },
     "metadata": {},
     "output_type": "display_data"
    }
   ],
   "source": [
    "library(\"MASS\")\n",
    "\n",
    "set.seed(123) ## set the seed for reproducibility\n",
    "sets <- 10000 # set of samples\n",
    "\n",
    "numberHist <- 1:6 # number of histograms which will be produced\n",
    "N <- c(1, 5, 10, 16, 32, 100) # number of samples\n",
    "\n",
    "# uniform distribution\n",
    "# limits for uniform distribution\n",
    "a <- 0\n",
    "b <- 4\n",
    "# calculate mean and variance of uniform distribution\n",
    "mu = 0.5 * (a + b)\n",
    "var = (b - a)^2 / 12\n",
    "\n",
    "# png(\"CLT_Histograms.png\")\n",
    "p <- par(mfrow = c(3, 2))\n",
    "for (i in numberHist) {\n",
    "    # produce a matrix of samples and build row mean to plot into a \n",
    "    # normalizes histogram\n",
    "    samples <- matrix(runif(sets * N[i], a, b),,nrow = sets,\n",
    "                      ncol = N[i])\n",
    "    sampleMean <- rowMeans(samples)\n",
    "    truehist(sampleMean, main = N[i])\n",
    "    # overplot a normal distribution\n",
    "    x <- seq(0, 4, length = 1000)\n",
    "    lines(x, dnorm(x, mu, sqrt(var)/sqrt(N[i])), lwd = 2)\n",
    "}\n",
    "par(p)\n",
    "\n",
    "# the numbers above the subplots correspods to the number of samples N"
   ]
  },
  {
   "cell_type": "markdown",
   "metadata": {},
   "source": [
    "\n",
    "#### b: How large must be N to get a reasonable correspondence? How could one quantify the convergence?"
   ]
  },
  {
   "cell_type": "markdown",
   "metadata": {},
   "source": [
    "As observed in the plot above reasonable correspondence to the normal distribution is reached at rather small values of N which is unexpected. \n",
    "\n",
    "To quantify the convergence one can try to compute the $\\chi^2$ between the averaged uniform and the expected normal distribution and minimise it. "
   ]
  },
  {
   "cell_type": "markdown",
   "metadata": {},
   "source": [
    "#### c: Try to do the same using a Cauchy instead of a uniform distribution! Do you have an explanation for the behavior?"
   ]
  },
  {
   "cell_type": "code",
   "execution_count": 366,
   "metadata": {},
   "outputs": [
    {
     "data": {
      "image/png": "[encoded data removed]",
      "text/plain": [
       "Plot with title \"2000\""
      ]
     },
     "metadata": {},
     "output_type": "display_data"
    }
   ],
   "source": [
    "# cauchy distribution\n",
    "# cauchy distribution has a undefined mean and variance\n",
    "N <- c(1, 5, 16, 100, 1000, 2000) # number of samples\n",
    "# png(\"CLT_Histograms_cauchy.png\")\n",
    "p <- par(mfrow = c(3, 2))\n",
    "for (i in numberHist) {\n",
    "    # produce a matrix of samples and build row mean to plot into a \n",
    "    # normalizes histogram\n",
    "    samples <- matrix(rcauchy(sets * N[i]), nrow = sets, ncol = N[i])\n",
    "    sampleMean <- rowMeans(samples)\n",
    "    truehist(sampleMean, main = N[i], ylim = c(0, 0.001))\n",
    "}\n",
    "par(p)\n",
    "\n",
    "# the numbers above the subplots correspods to the number of samples N"
   ]
  },
  {
   "cell_type": "markdown",
   "metadata": {},
   "source": [
    "The reason why the averaged Cauchy distributions does not fit the normal distribution is due to the behaviour of the Cauchy distribution since it has no defined mean. In the plot the limits of the y-axis were scaled down to see the resulting distributions better. Moreover, we can see that the averaged Cauchy distributions are more narrowly distributed than the averaged uniform distributions."
   ]
  },
  {
   "cell_type": "markdown",
   "metadata": {},
   "source": [
    "### 3.2 Testing mean, median, and trimean for eficiency and robustness {-}\n",
    "Commonly, mean and median are used as estimators for the mean of a symmetric distribution. An-\n",
    "other, less known one, is the trimean which is a weighted average of the distribution's median and\n",
    "first and third quartiles\n",
    "$$\n",
    "\\hat{\\mu}_{\\mathrm{TM}} \\equiv \\frac{1}{4}(Q_1 + 2Q_2 + Q_3)\n",
    "$$\n",
    "Test the 3 estimators for a normal distribution $N(0; 1)$! To be specific use a sample size of 20. Convince\n",
    "youself that your MC results are statistically significant by varying the number of Monte Carlo trials."
   ]
  },
  {
   "cell_type": "markdown",
   "metadata": {},
   "source": [
    "#### a: Write an R-function which calculates the trimean! Hint: The function quantile() can help here."
   ]
  },
  {
   "cell_type": "code",
   "execution_count": 153,
   "metadata": {},
   "outputs": [],
   "source": [
    "# define function\n",
    "\n",
    "trimean <- function(X){\n",
    "    return(0.25*sum(quantile(X,c(0.25,0.5,0.75),\n",
    "                             names = FALSE)*c(1,2,1)))\n",
    "}"
   ]
  },
  {
   "cell_type": "code",
   "execution_count": 154,
   "metadata": {},
   "outputs": [
    {
     "data": {
      "text/html": [
       "5.5"
      ],
      "text/latex": [
       "5.5"
      ],
      "text/markdown": [
       "5.5"
      ],
      "text/plain": [
       "[1] 5.5"
      ]
     },
     "metadata": {},
     "output_type": "display_data"
    }
   ],
   "source": [
    "# test function\n",
    "\n",
    "trimean(1:10)"
   ]
  },
  {
   "cell_type": "markdown",
   "metadata": {},
   "source": [
    "#### b: Run Monte Carlo tests to check that the estimators are indeed all unbiased."
   ]
  },
  {
   "cell_type": "markdown",
   "metadata": {},
   "source": [
    "We have three estimators: mean, median and trimean of our sample.\n",
    "\n",
    "Also, we know that for N(0;1) the true mean equals zero, the true median equals zero, and the true trimean is:"
   ]
  },
  {
   "cell_type": "code",
   "execution_count": 239,
   "metadata": {},
   "outputs": [
    {
     "name": "stdout",
     "output_type": "stream",
     "text": [
      "trimean_true =  0"
     ]
    }
   ],
   "source": [
    "mean_true <- 0\n",
    "median_true <- 0\n",
    "\n",
    "trimean_true <- 0.25*sum(qnorm(c(0.25,0.5,0.75))*c(1,2,1))\n",
    "cat('trimean_true = ',trimean_true)"
   ]
  },
  {
   "cell_type": "markdown",
   "metadata": {},
   "source": [
    "Intialise $2.5 \\times 10^4$ Monte Carlo runs, where each sample has 20 elements:"
   ]
  },
  {
   "cell_type": "code",
   "execution_count": 264,
   "metadata": {
    "collapsed": true
   },
   "outputs": [],
   "source": [
    "n <- 20 # number of elements of a sample\n",
    "M <- 2.5e4 # number of Monte Carlo runs\n",
    "\n",
    "#set.seed(100)\n",
    "sample <- matrix(rnorm(n*M),n,M)"
   ]
  },
  {
   "cell_type": "markdown",
   "metadata": {},
   "source": [
    "compute the bias:"
   ]
  },
  {
   "cell_type": "code",
   "execution_count": 265,
   "metadata": {},
   "outputs": [
    {
     "name": "stdout",
     "output_type": "stream",
     "text": [
      "mean:\n",
      " bias =  0.001324761 \n",
      "median:\n",
      " bias =  0.0004396846 \n",
      "trimean:\n",
      " bias =  0.0009037913 \n"
     ]
    }
   ],
   "source": [
    "# herefore we us rowMeans and create analoque functions for median and\n",
    "# trimean\n",
    "\n",
    "rowMedians <- function(x){\n",
    "    apply(x, 2, median) \n",
    "}\n",
    "\n",
    "rowTrimeans <- function(x){\n",
    "    apply(x, 2, trimean) \n",
    "}\n",
    "\n",
    "cat('mean:\\n','bias = ',(mean_true-mean(rowMeans(sample))),'\\n')\n",
    "\n",
    "cat('median:\\n','bias = ',(median_true-mean(rowMedians(sample))),'\\n')\n",
    "\n",
    "cat('trimean:\\n','bias = ',(trimean_true-mean(rowTrimeans(sample))),\n",
    "    '\\n')"
   ]
  },
  {
   "cell_type": "markdown",
   "metadata": {},
   "source": [
    "Now, we do the same for $10^5$ Monte Carlo runs:"
   ]
  },
  {
   "cell_type": "code",
   "execution_count": 266,
   "metadata": {},
   "outputs": [
    {
     "name": "stdout",
     "output_type": "stream",
     "text": [
      "mean:\n",
      " bias =  -0.0001299724 \n",
      "median:\n",
      " bias =  0.0001855778 \n",
      "trimean:\n",
      " bias =  5.71593e-06 \n"
     ]
    }
   ],
   "source": [
    "n <- 20 # number of elements of a sample\n",
    "M <- 1e5 # number of Monte Carlo runs\n",
    "\n",
    "#set.seed(50)\n",
    "sample <- matrix(rnorm(n*M),n,M)\n",
    "\n",
    "\n",
    "cat('mean:\\n','bias = ',(mean_true-mean(rowMeans(sample))),'\\n')\n",
    "\n",
    "cat('median:\\n','bias = ',(median_true-mean(rowMedians(sample))),'\\n')\n",
    "\n",
    "cat('trimean:\\n','bias = ',(trimean_true-mean(rowTrimeans(sample))),\n",
    "    '\\n')"
   ]
  },
  {
   "cell_type": "markdown",
   "metadata": {},
   "source": [
    "We observe that the bias is small. Thus, we regard the estimators as unbiased. \n",
    "\n",
    "\n",
    "Furthermore, we observe that the bias decreasing with increasing number of Monte Carlo runs as expected."
   ]
  },
  {
   "cell_type": "markdown",
   "metadata": {},
   "source": [
    "#### c: Test the efficiency of the 3 estimators! Which performs best? What is the ratio of the efficiency of the less-performing estimators to the best one? What does this mean?"
   ]
  },
  {
   "cell_type": "code",
   "execution_count": 312,
   "metadata": {},
   "outputs": [
    {
     "name": "stdout",
     "output_type": "stream",
     "text": [
      "mean:\n",
      " efficiency =  0.0001025771 \n",
      "median:\n",
      " efficiency =  0.07448746 \n",
      "trimean:\n",
      " efficiency =  0.05914382 \n"
     ]
    }
   ],
   "source": [
    "n = 20 # number of elements of a sample\n",
    "M = 1e4 # number of Monte Carlo runs\n",
    "\n",
    "set.seed(100)\n",
    "sample <- matrix(rnorm(n*M),n,M)\n",
    "\n",
    "efficiency_mean <- mean((mean_true-rowMeans(sample))**2)\n",
    "\n",
    "efficiency_median <- mean((median_true-rowMedians(sample))**2)\n",
    "\n",
    "efficiency_trimean <- mean((trimean_true-rowTrimeans(sample))**2)\n",
    "\n",
    "cat('mean:\\n','efficiency = ',efficiency_mean,'\\n')\n",
    "\n",
    "cat('median:\\n','efficiency = ',efficiency_median,'\\n')\n",
    "\n",
    "cat('trimean:\\n','efficiency = ',efficiency_trimean,'\\n')"
   ]
  },
  {
   "cell_type": "markdown",
   "metadata": {},
   "source": [
    "The efficiency is smallest (thus best) for the mean estimator. The median estimator has the largest (thus worst) efficiency. Their ratios of the efficiency is:"
   ]
  },
  {
   "cell_type": "code",
   "execution_count": 356,
   "metadata": {},
   "outputs": [
    {
     "name": "stdout",
     "output_type": "stream",
     "text": [
      "efficiency_median/efficiency_mean =  726.1608 \n",
      "efficiency_trimean/efficiency_mean =  576.5792 \n"
     ]
    }
   ],
   "source": [
    "cat('efficiency_median/efficiency_mean = ',\n",
    "    efficiency_median/efficiency_mean,'\\n')\n",
    "\n",
    "cat('efficiency_trimean/efficiency_mean = ',\n",
    "    efficiency_trimean/efficiency_mean,'\\n')"
   ]
  },
  {
   "cell_type": "markdown",
   "metadata": {},
   "source": [
    "This means the mean square deviation of the mean estimator from the true value is much smaller than the mean square deviation of the other two estimators. In other words, single Monte Carlo simulations will give results which are on average closer to the true value for the mean estimator.  "
   ]
  },
  {
   "cell_type": "markdown",
   "metadata": {},
   "source": [
    "#### d: Add one (rather extreme) outlier drawn from a uniform distribution $U(-20; 20)$. Test the robustness by looking at the mean-square error in the cases. What is their relative performance?"
   ]
  },
  {
   "cell_type": "code",
   "execution_count": 343,
   "metadata": {},
   "outputs": [],
   "source": [
    "n = 20 # number of elements of a sample\n",
    "M = 20 # number of Monte Carlo runs\n",
    "\n",
    "# intitialise outlayers\n",
    "set.seed(50)\n",
    "outlayers <- runif(M,min=-20,max=20)\n",
    "\n",
    "# intialise samples with oulayers\n",
    "set.seed(50)\n",
    "# n+1 is for one additional entry for the outlayer\n",
    "mod_sample <- t( matrix(c(rnorm(n*M),outlayers),M,n+1) )"
   ]
  },
  {
   "cell_type": "code",
   "execution_count": 345,
   "metadata": {},
   "outputs": [
    {
     "name": "stdout",
     "output_type": "stream",
     "text": [
      "mean:\n",
      " efficiency =  0.8795355 \n",
      "median:\n",
      " efficiency =  0.05699134 \n",
      "trimean:\n",
      " efficiency =  0.04898051 \n"
     ]
    }
   ],
   "source": [
    "# compute the mean-square error\n",
    "\n",
    "mod_efficiency_mean <- mean((mean_true-rowMeans(mod_sample))**2)\n",
    "\n",
    "mod_efficiency_median <- mean((median_true-rowMedians(mod_sample))**2)\n",
    "\n",
    "mod_efficiency_trimean <- mean((trimean_true-rowTrimeans(\n",
    "        mod_sample))**2)\n",
    "\n",
    "cat('mean:\\n','efficiency = ',mod_efficiency_mean,'\\n')\n",
    "\n",
    "cat('median:\\n','efficiency = ',mod_efficiency_median,'\\n')\n",
    "\n",
    "cat('trimean:\\n','efficiency = ',mod_efficiency_trimean,'\\n')"
   ]
  },
  {
   "cell_type": "code",
   "execution_count": 352,
   "metadata": {
    "collapsed": true
   },
   "outputs": [],
   "source": [
    "n = 20 # number of elements of a sample\n",
    "M = 1e4 # number of Monte Carlo runs\n",
    "\n",
    "# intitialise outlayers\n",
    "set.seed(50)\n",
    "outlayers <- runif(M,min=-20,max=20)\n",
    "\n",
    "# intialise samples with oulayers\n",
    "set.seed(50)\n",
    "# n+1 is for one additional entry for the outlayer\n",
    "mod_sample <- t( matrix(c(rnorm(n*M),outlayers),M,n+1) )"
   ]
  },
  {
   "cell_type": "code",
   "execution_count": 353,
   "metadata": {},
   "outputs": [
    {
     "name": "stdout",
     "output_type": "stream",
     "text": [
      "mean:\n",
      " efficiency =  0.001352009 \n",
      "median:\n",
      " efficiency =  0.07948425 \n",
      "trimean:\n",
      " efficiency =  0.06235928 \n"
     ]
    }
   ],
   "source": [
    "# compute the mean-square error\n",
    "\n",
    "mod_efficiency_mean <- mean((mean_true-rowMeans(mod_sample))**2)\n",
    "\n",
    "mod_efficiency_median <- mean((median_true-rowMedians(mod_sample))**2)\n",
    "\n",
    "mod_efficiency_trimean <- mean((trimean_true-rowTrimeans(\n",
    "    mod_sample))**2)\n",
    "\n",
    "cat('mean:\\n','efficiency = ',mod_efficiency_mean,'\\n')\n",
    "\n",
    "cat('median:\\n','efficiency = ',mod_efficiency_median,'\\n')\n",
    "\n",
    "cat('trimean:\\n','efficiency = ',mod_efficiency_trimean,'\\n')"
   ]
  },
  {
   "cell_type": "markdown",
   "metadata": {},
   "source": [
    "We expect that the median is less senstive to outlayers than the mean, and we observe that this for a small number of Monte Carlo runs. Appearently, the trimean is even more efficient. The importance of the outlayer decreases with increasing number of Monte Carlo runs. Hence, we observe that the mean is most efficient in the case of a large number of Monte Carlo runs."
   ]
  },
  {
   "cell_type": "code",
   "execution_count": 355,
   "metadata": {},
   "outputs": [
    {
     "name": "stdout",
     "output_type": "stream",
     "text": [
      "efficiency_median/efficiency_mean =  58.78973 \n",
      "efficiency_trimean/efficiency_mean =  46.12342 \n"
     ]
    }
   ],
   "source": [
    "cat('efficiency_median/efficiency_mean = ',\n",
    "    mod_efficiency_median/mod_efficiency_mean,'\\n')\n",
    "\n",
    "cat('efficiency_trimean/efficiency_mean = ',\n",
    "    mod_efficiency_trimean/mod_efficiency_mean,'\\n')"
   ]
  },
  {
   "cell_type": "markdown",
   "metadata": {},
   "source": [
    "As before, we see that the mean estimator is best and the median is worst in terms of efficiency perfomance for a large number of Monte Carlo runs.."
   ]
  }
 ],
 "metadata": {
  "anaconda-cloud": {},
  "kernelspec": {
   "display_name": "R",
   "language": "R",
   "name": "ir"
  },
  "language_info": {
   "codemirror_mode": "r",
   "file_extension": ".r",
   "mimetype": "text/x-r-source",
   "name": "R",
   "pygments_lexer": "r",
   "version": "3.5.1"
  }
 },
 "nbformat": 4,
 "nbformat_minor": 2
}
