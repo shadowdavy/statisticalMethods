{
 "cells": [
  {
   "cell_type": "markdown",
   "metadata": {},
   "source": [
    "# Statistical Methods (SS18) {-}\n",
    "## David Bubeck, Henrik Lukas Ruh & Manuel Bayer {-}\n",
    "## Exercise 5 for August 13, 2018, 9:00 {-}"
   ]
  },
  {
   "cell_type": "markdown",
   "metadata": {},
   "source": [
    "## Statistical Potpourri, Samples with a Markov Chain {-}"
   ]
  },
  {
   "cell_type": "markdown",
   "metadata": {},
   "source": [
    "### 5.1 Confirming some numbers (analytical) {-}\n",
    "Confirm the following:"
   ]
  },
  {
   "cell_type": "markdown",
   "metadata": {},
   "source": [
    "##### a: if $x \\sim N(0; 1):  \\mathrm{\\ Cov}\\left[x, x^2\\right]= 0,\\mathrm{\\ Cor}\\left[x, x^2\\right]= 0$\n",
    "\n",
    "cov[$x$, $x^2$] = E[$x \\cdot x^2$] - E[$x$]E[$x^2$] = E[$x^3$] - E[$x$]E[$x^2$]\n",
    "\n",
    "The expected value of a normal distribution is in our case vor N(0, 1): \n",
    "\n",
    "E[$x$] = $\\mu$ = 0\n",
    "\n",
    "We can calculate the expected value with E[$x$] = $\\int_{-\\infty}^\\infty x f_X(x)\\,\\mathrm{d}x$.\n",
    "\n",
    "In this cas we get for cov[$x$, $x^2$] = $\\int_{-\\infty}^\\infty x^3 N(x | \\mu, \\sigma^2)\\,\\mathrm{d}x - \\int_{-\\infty}^\\infty x N(x | \\mu, \\sigma^2)\\,\\mathrm{d}x \\cdot \\int_{-\\infty}^\\infty x^2 N(x | \\mu, \\sigma^2)\\,\\mathrm{d}x$, where $N(x | \\mu, \\sigma^2)$ is the normal distribution.\n",
    "\n",
    "Because E[$x$] = $\\mu$ = $\\int_{-\\infty}^\\infty x N(x | \\mu, \\sigma^2)\\,\\mathrm{d}x$ = 0 $\\Rightarrow \\int_{-\\infty}^\\infty x N(x | \\mu, \\sigma^2)\\,\\mathrm{d}x \\cdot \\int_{-\\infty}^\\infty x^2 N(x | \\mu, \\sigma^2)\\,\\mathrm{d}x$ = 0. In case of E[$x^3$] = $\\int_{-\\infty}^\\infty x^3 N(x | \\mu, \\sigma^2)\\,\\mathrm{d}x$ we have antisymmetry which gives us also zero. Therefore, our \n",
    "\n",
    "cov[$x, x^2$] = 0\n",
    "\n",
    "To calculate the correlation we use cor[$x, x^2$] = $\\frac{cov[x, x^2]}{\\sigma_x \\sigma_{x^2}}$. For cov[$x, x^2$] = 0 follows:\n",
    "\n",
    "cor[$x, x^2$] = 0\n",
    "\n",
    "\n",
    "An alternate method for calculating the expectation value would be the moment generating function $M(t)$.\n",
    "\n",
    "$E[x^n] = \\frac{d^n \\, M(t)}{dt^n} |_{t=0}$. In case of the normal distribution $M(t) = exp(t \\mu + \\frac{\\sigma^2 t^2}{2})$. For $\\mu = 0$ and $\\sigma^2 = 1$ we get $M(t) = exp(\\frac{t^2}{2})$. As mentiond above E[$x$] = 0 $\\Rightarrow$ E[$x$]E[$x^2$] = 0. With the moment generating function we get for $x^3 \\Rightarrow n = 3$ an expected value of $E[x^3] = \\frac{d^3 exp(\\frac{t^2}{2})}{dt^3}) |_{t = 0} = 0$. Therefore cov[$x, x^2$] = 0 and cor[$x, x^2$] = 0.\n"
   ]
  },
  {
   "cell_type": "markdown",
   "metadata": {},
   "source": [
    "##### b: if $x \\sim U(0; 1):  \\mathrm{\\ Cov}\\left[x, x^2\\right]= \\frac{1}{12},\\mathrm{\\ Cor}\\left[x, x^2\\right]= \\frac{1}{4}\\sqrt{15}$\n",
    "\n",
    "The uniform distibution is given by U(a, b) = 1 in the interval [a, b], otherwise 0. We can calculate the expected value as above using $E[x] = \\int_{-\\infty}^\\infty x f(x)\\,\\mathrm{d}x$. For the uniform distibution we end up with\n",
    "\n",
    "$E[x] = \\int_{-\\infty}^\\infty x U(a, b)\\,\\mathrm{d}x = \\int_{a}^b x U(a, b)\\,\\mathrm{d}x = \\int_{0}^1 x U(a, b)\\,\\mathrm{d}x = \\frac{1}{2}$.\n",
    "\n",
    "Evaluating the integral for E[$x^2$], E[$x^3$], E[$x^4$] gives us\n",
    "\n",
    "E[$x^2$] = $\\frac{1}{3}$, E[$x^3$] = $\\frac{1}{4}$, E[$x^4$] = $\\frac{1}{5}$.\n",
    "\n",
    "cov[$x$, $x^2$] = E[$x^3$] - E[$x$]E[$x^2$] = $\\frac{1}{4} - \\frac{1}{2}\\frac{1}{3} = \\frac{1}{12}$.\n",
    "\n",
    "To calculate the correlation we first need to determine the variance for $x$ and $x^2$, which we can do with\n",
    "\n",
    "$var[x] = \\frac{1}{12}(b - a)^2 = \\frac{1}{12}$\n",
    "$var[x^2] = E[(x^2)^2] - E[x^2]^2 = E[x^4] - E[x^2]^2 = \\frac{1}{5} - \\frac{1}{9} = \\frac{4}{45}$.\n",
    "\n",
    "Therefor we get for\n",
    "\n",
    "cor[$x, x^2$] = $\\frac{cov[x, x^2]}{\\sigma_x \\sigma_x^2} = \\frac{\\frac{1}{12}}{\\sqrt{\\frac{1}{12}}\\sqrt{\\frac{4}{45}}} = \\frac{1}{4}\\sqrt{15}$\n"
   ]
  },
  {
   "cell_type": "markdown",
   "metadata": {},
   "source": [
    "##### c: in case a) $x$ and $x^2$ are uncorrelated. Are they also independent?\n",
    "\n",
    "Correlation and independence are two different things. In case a) $x$ and $x^2$ may be uncorrelated but NOT independent.\n"
   ]
  },
  {
   "cell_type": "markdown",
   "metadata": {},
   "source": [
    "### 5.2 The Shadoks try to launch a rocket (mostly analytical) {-}\n",
    "\n",
    "##### a: What is the probability that the one-millionth launch is actually successful?\n",
    "\n",
    "#### A:\n",
    "The Shadoks do not learn anything, consequently the propability for each new launch stays $p(\\mathrm{L}) = 10^{-6}$.\n",
    "\n",
    "\n",
    "##### b: What is the probability that among the one million launches the Shadoks perform is at least one (accidentally) successful?\n",
    "\n",
    "Hints: Think about the complement of the asked probability. A useful formula is perhaps\n",
    "$\\mathrm{e}^{x} = \\lim\\limits_{n \\rightarrow \\infty}{(1 + \\frac{x}{n})^n}$. One may also see the launch problem in the light of Poisson\n",
    "statistics.\n",
    "\n",
    "#### A:\n",
    "Instead of calculating the probability of at least one successful launch directly, we first compute the probability for all launches beeing unsuccessfull and then use that the total probability is 1.\n",
    "\n",
    "$$\n",
    "p(\\mathrm{at\\ least\\ one\\ successful\\ launch})=1-p(\\mathrm{all\\ launches\\ unsuccessful})\n",
    "=1-p(\\mathrm{\\neg L})^{n_{\\mathrm{trials}}}=1-\\left(1-p(\\mathrm{L})\\right)^{n_{\\mathrm{trials}}}\n",
    "$$\n",
    "\n",
    "$n_{\\mathrm{trials}}$ is very large and $p(\\mathrm{L})$ is very small, thus we can use the hint and compute\n",
    "\n",
    "$$\n",
    "p(\\mathrm{at\\ least\\ one\\ successful\\ launch}) \\approx 1-\\mathrm{e}^{-1} \\approx 0.63.\n",
    "$$.\n"
   ]
  },
  {
   "cell_type": "markdown",
   "metadata": {
    "collapsed": true
   },
   "source": [
    "### 5.3 Random samples with a Monte Carlo Markov chain {-}\n",
    "\n",
    "##### a: Start with some random guess $x_0$ for which $p(x)$ is not zero.\n",
    "\n",
    "##### b: Make a proposal for $x_i'$ in your chain by adding a random number drawn uniformly from the interval $\\left[-1; 1\\right]$ to  $x_{i-1}$.\n",
    "\n",
    "###### c: Accept the proposal with probability \n",
    "$$r = min\\left(1, \\frac{p(x_i')}{p(x_{i-1})}\\right),$$\n",
    "##### i.e. in the case of acceptance make it the entry xi in your Monte Carlo chain. Otherwise, adopt the unmodified $x_{i-1}$ as your element $x_i$. Then proceed with the next element $i + 1$.\n",
    "\n",
    "##### d: Produce a chain with $N = 10^6$ elements, and make a histogram with bin size $\\Delta x = 0.02$ of the entries in order to verify that they correctly sample the overplotted shape of $p(x)$. How many different points are in your chain?\n"
   ]
  },
  {
   "cell_type": "markdown",
   "metadata": {},
   "source": [
    "Since the unknown proportionality constants/normalisation of the probability distribution p(x) cancels out in\n",
    "the computation of the acceptance probability we do not need it to compute the points of the Markov chain.\n",
    "However, we need the normalisation when comparing p(x) to the resulting histogram of the chain in part d, therefore, we calculated the normalisation of the p(x) with WolframAlpha: $$\\int_{-\\infty}^\\infty \\exp\\left(-\\left(x+2\\cos(x)^2\\right)^2\\right)=1.10401$$"
   ]
  },
  {
   "cell_type": "code",
   "execution_count": 6,
   "metadata": {},
   "outputs": [
    {
     "name": "stdout",
     "output_type": "stream",
     "text": [
      "Number of different points in the chain =  506963 \n"
     ]
    },
    {
     "data": {
      "image/png": "[encoded data removed]",
      "text/plain": [
       "plot without title"
      ]
     },
     "metadata": {},
     "output_type": "display_data"
    }
   ],
   "source": [
    "library(MASS) # Used package\n",
    "\n",
    "# Underlying probability distribution without\n",
    "# normalisation\n",
    "p <- function(x) exp(-(x + 2*(cos(x)**2))**2) \n",
    "                                              \n",
    "r <- function(x, y) min(1, p(x)/p(y)) # Acceptance probability (c)\n",
    "\n",
    "N <- 1e6 # Number of elements in the chain\n",
    "\n",
    "##### Metropolis-Hastings algorithm #####\n",
    "# Matrix containing the elements of the chain\n",
    "pchain <- matrix(nrow=N, ncol=1)\n",
    "\n",
    "pchain[1,1] <- 0 # Random guess for the first point of the chain (a)\n",
    "# Number of acceptances + 1 respectively number of different points\n",
    "# in the chain\n",
    "nAccept <- 1 \n",
    "for (i in 2:N) { # (b)\n",
    "    xcur  <- pchain[i-1,1]\n",
    "    xprop <- xcur + runif(1,-1,1) # uncorrelated uniform change, symmetric\n",
    "    if (r(xprop, xcur)>runif(1)) { # Acceptance\n",
    "        pchain[i,1] <- xprop\n",
    "        nAccept <- nAccept + 1 # New element in chain\n",
    "    } else { # Rejection\n",
    "        pchain[i,1] <- xcur\n",
    "    }\n",
    "}\n",
    "\n",
    "truehist(pchain[,1], h=.02, xlab=\"x\", ylab=\"p\") # Histogram (d)\n",
    "pval <- seq(-4,2,length=10000) # Plot values\n",
    "# Overplot of the normalised probability distribution (d) \n",
    "lines(pval, p(pval)/1.10401, col=\"red\", lwd=2) \n",
    "legend(x=\"topright\",\n",
    "       legend=c(\"Elements of the chain\",\n",
    "                \"Underlying probability distribution\"),\n",
    "       col=c(\"cyan\",\"red\"), lty=1, cex=.7) # Legend\n",
    "cat(\"Number of different points in the chain = \", nAccept, \"\\n\")"
   ]
  }
 ],
 "metadata": {
  "anaconda-cloud": {},
  "kernelspec": {
   "display_name": "R",
   "language": "R",
   "name": "ir"
  },
  "language_info": {
   "codemirror_mode": "r",
   "file_extension": ".r",
   "mimetype": "text/x-r-source",
   "name": "R",
   "pygments_lexer": "r",
   "version": "3.5.1"
  }
 },
 "nbformat": 4,
 "nbformat_minor": 2
}
