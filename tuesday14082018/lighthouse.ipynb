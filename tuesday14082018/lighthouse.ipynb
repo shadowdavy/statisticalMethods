{
 "cells": [
  {
   "cell_type": "markdown",
   "metadata": {},
   "source": [
    "# B:"
   ]
  },
  {
   "cell_type": "code",
   "execution_count": null,
   "metadata": {
    "collapsed": true
   },
   "outputs": [],
   "source": [
    "# read in data\n",
    "data <- read.table(\"lighthouse.dat\", header=FALSE)\n",
    "\n",
    "# display some of the data\n",
    "head(data)\n",
    "\n",
    "data <- data$V1\n",
    "length(data)"
   ]
  },
  {
   "cell_type": "markdown",
   "metadata": {},
   "source": [
    "We expect that the $x_k$ data is distributed like a Chauchy function around $x_0$. A first look on the data hints that this is indeed the case."
   ]
  },
  {
   "cell_type": "code",
   "execution_count": 23,
   "metadata": {},
   "outputs": [
    {
     "data": {
      "image/png": "[encoded data removed]",
      "text/plain": [
       "Plot with title \"Histogram of data\""
      ]
     },
     "metadata": {},
     "output_type": "display_data"
    }
   ],
   "source": [
    "# histogram of x data\n",
    "hist(data,breaks=50,xlab='x_k [miles]')"
   ]
  },
  {
   "cell_type": "code",
   "execution_count": 120,
   "metadata": {
    "collapsed": true
   },
   "outputs": [],
   "source": [
    "# function for the posterior with a gaussian prior\n",
    "\n",
    "posterior1 <- function(y,X){\n",
    "    # likelihood times prior\n",
    "    prod(y*(y**2+(1.25-X)**2)**-1)*dnorm(y,mean=2,sd=0.3)\n",
    "}\n"
   ]
  },
  {
   "cell_type": "code",
   "execution_count": 173,
   "metadata": {},
   "outputs": [],
   "source": [
    "# compute the posterior dependend for a y seq\n",
    "yseq <- seq(0.0001,3,0.0001)\n",
    "\n",
    "p1 <- yseq\n",
    "\n",
    "for (i in 1:length(yseq)){\n",
    "      p1[i] <- posterior1(yseq[i],data)\n",
    "}\n",
    "\n",
    "# integral\n",
    "I <- mean(p1)*3"
   ]
  },
  {
   "cell_type": "code",
   "execution_count": 174,
   "metadata": {
    "collapsed": true
   },
   "outputs": [],
   "source": [
    "# new normalized posterior\n",
    "posterior2 <- function(y,X){\n",
    "    # likelihood times prior\n",
    "    I**(-1)*prod(y*(y**2+(1.25-X)**2)**-1)*dnorm(y,mean=2,sd=0.3)\n",
    "}"
   ]
  },
  {
   "cell_type": "code",
   "execution_count": 175,
   "metadata": {},
   "outputs": [],
   "source": [
    "# compute normalized posterior for the sequence\n",
    "\n",
    "p2 <- yseq\n",
    "for (i in 1:length(yseq)){\n",
    "      p2[i] <- posterior2(yseq[i],data)\n",
    "}"
   ]
  },
  {
   "cell_type": "code",
   "execution_count": 182,
   "metadata": {},
   "outputs": [
    {
     "name": "stdout",
     "output_type": "stream",
     "text": [
      "statistics\n",
      "---------------------\n",
      "mode =  1.2986\n",
      "mean =  1.330114\n",
      "median =  1.3197\n",
      "sigma_y =  0.2096681"
     ]
    }
   ],
   "source": [
    "# satistics\n",
    "mode <- yseq[which.max(p2)]\n",
    "mean <- sum(p2*yseq)*3/length(yseq)\n",
    "\n",
    "# we compute the median, by first computing the cumulative sum\n",
    "median <- yseq[which.min((cumsum(p2)/length(p2)*3-0.5)**2)]\n",
    "\n",
    "sigy <- (sum(p2*yseq**2)*3/length(yseq)-mean**2)**0.5\n",
    "\n",
    "cat('statistics\\n---------------------')\n",
    "cat('\\nmode = ',mode)\n",
    "cat('\\nmean = ',mean)\n",
    "cat('\\nmedian = ',median)\n",
    "cat('\\nsigma_y = ',sigy)\n"
   ]
  },
  {
   "cell_type": "code",
   "execution_count": 215,
   "metadata": {},
   "outputs": [
    {
     "data": {
      "image/png": "[encoded data removed]",
      "text/plain": [
       "plot without title"
      ]
     },
     "metadata": {},
     "output_type": "display_data"
    }
   ],
   "source": [
    "# plot the posterior dependend on y\n",
    "\n",
    "plot(yseq,p2,'l',xlab='y',ylab='posterior')\n",
    "abline(v=mode,col='red')\n",
    "abline(v=mean,col='blue')\n",
    "abline(v=median,col='green')\n",
    "\n",
    "# legend\n",
    "legend(\"topright\", legend=c('mode','mean','median'), inset=.05, \n",
    "       lwd=2, col=c('red','blue','green'))"
   ]
  },
  {
   "cell_type": "markdown",
   "metadata": {},
   "source": [
    "# C:"
   ]
  },
  {
   "cell_type": "code",
   "execution_count": 198,
   "metadata": {
    "collapsed": true
   },
   "outputs": [],
   "source": [
    "# posterior functions\n",
    "\n",
    "# constant prior\n",
    "posteriorcons1 <- function(y,X){\n",
    "    # likelihood times prior\n",
    "    prod(y*(y**2+(1.25-X)**2)**-1)\n",
    "}\n",
    "\n",
    "# inverse y dependence prior\n",
    "posteriorinv1 <- function(y,X){\n",
    "    # likelihood times prior\n",
    "    prod(y*(y**2+(1.25-X)**2)**-1)/y\n",
    "}\n"
   ]
  },
  {
   "cell_type": "code",
   "execution_count": 199,
   "metadata": {},
   "outputs": [],
   "source": [
    "# compute the posteriors dependend for a y seq\n",
    "yseq <- seq(0.0001,3,0.0001)\n",
    "\n",
    "pcons1 <- yseq\n",
    "pinv1 <- yseq\n",
    "\n",
    "for (i in 1:length(yseq)){\n",
    "      pcons1[i] <- posteriorcons1(yseq[i],data)\n",
    "      pinv1[i] <- posteriorinv1(yseq[i],data)\n",
    "}\n",
    "\n",
    "# integrals\n",
    "Icons <- mean(pcons1)*3\n",
    "Iinv <- mean(pinv1)*3"
   ]
  },
  {
   "cell_type": "code",
   "execution_count": 200,
   "metadata": {
    "collapsed": true
   },
   "outputs": [],
   "source": [
    "# normalized posterior functions\n",
    "\n",
    "posteriorcons2 <- function(y,X){\n",
    "    # likelihood times prior\n",
    "    Icons**-1* prod(y*(y**2+(1.25-X)**2)**-1)\n",
    "}\n",
    "\n",
    "posteriorinv2 <- function(y,X){\n",
    "    # likelihood times prior\n",
    "    Iinv**-1* prod(y*(y**2+(1.25-X)**2)**-1)/y\n",
    "}"
   ]
  },
  {
   "cell_type": "code",
   "execution_count": 201,
   "metadata": {},
   "outputs": [],
   "source": [
    "# compute normalized posterior for the sequence\n",
    "\n",
    "pcons2 <- yseq\n",
    "pinv2 <- yseq\n",
    "\n",
    "for (i in 1:length(yseq)){\n",
    "      pcons2[i] <- posteriorcons2(yseq[i],data)\n",
    "      pinv2[i] <- posteriorinv2(yseq[i],data)\n",
    "}"
   ]
  },
  {
   "cell_type": "code",
   "execution_count": 206,
   "metadata": {},
   "outputs": [
    {
     "name": "stdout",
     "output_type": "stream",
     "text": [
      "statistics\n",
      "=================================\n",
      "\n",
      "constant prior\n",
      "---------------------\n",
      "mode =  0.9286\n",
      "mean =  0.9759626\n",
      "median =  0.9598\n",
      "sigma_y =  0.1790476\n",
      "\n",
      "inverse y dependence prior\n",
      "---------------------\n",
      "mode =  0.8986\n",
      "mean =  0.9442124\n",
      "median =  0.9286\n",
      "sigma_y =  0.1731443"
     ]
    }
   ],
   "source": [
    "# statistics\n",
    "cat('statistics\\n=================================')\n",
    "\n",
    "# cnostant prior\n",
    "cat('\\n\\nconstant prior\\n---------------------')\n",
    "mode <- yseq[which.max(pcons2)]\n",
    "mean <- sum(pcons2*yseq)*3/length(yseq)\n",
    "\n",
    "# we compute the median, by first computing the cumulative sum\n",
    "median <- yseq[which.min((cumsum(pcons2)/length(pcons2)*3-0.5)**2)]\n",
    "\n",
    "sigy <- (sum(pcons2*yseq**2)*3/length(yseq)-mean**2)**0.5\n",
    "\n",
    "\n",
    "cat('\\nmode = ',mode)\n",
    "cat('\\nmean = ',mean)\n",
    "cat('\\nmedian = ',median)\n",
    "cat('\\nsigma_y = ',sigy)\n",
    "\n",
    "\n",
    "# inverse y dependence prior\n",
    "cat('\\n\\ninverse y dependence prior\\n---------------------')\n",
    "\n",
    "mode <- yseq[which.max(pinv2)]\n",
    "mean <- sum(pinv2*yseq)*3/length(yseq)\n",
    "\n",
    "# we compute the median, by first computing the cumulative sum\n",
    "median <- yseq[which.min((cumsum(pinv2)/length(pinv2)*3-0.5)**2)]\n",
    "\n",
    "sigy <- (sum(pinv2*yseq**2)*3/length(yseq)-mean**2)**0.5\n",
    "\n",
    "\n",
    "cat('\\nmode = ',mode)\n",
    "cat('\\nmean = ',mean)\n",
    "cat('\\nmedian = ',median)\n",
    "cat('\\nsigma_y = ',sigy)\n"
   ]
  },
  {
   "cell_type": "code",
   "execution_count": 214,
   "metadata": {},
   "outputs": [
    {
     "data": {
      "image/png": "[encoded data removed]",
      "text/plain": [
       "plot without title"
      ]
     },
     "metadata": {},
     "output_type": "display_data"
    }
   ],
   "source": [
    "# plot the posterior dependend on y\n",
    "\n",
    "plot(yseq,p2,'l',col='red',ylim=c(0,2.5),xlab='y',ylab='posterior')\n",
    "lines(yseq,pcons2,col='blue')\n",
    "lines(yseq,pinv2,col='green')\n",
    "\n",
    "# legend\n",
    "legend(\"topright\", legend=c('gaussian prior','constant prior','1/y prior'), inset=.05, \n",
    "       lwd=2, col=c('red','blue','green'))"
   ]
  },
  {
   "cell_type": "code",
   "execution_count": null,
   "metadata": {
    "collapsed": true
   },
   "outputs": [],
   "source": []
  }
 ],
 "metadata": {
  "kernelspec": {
   "display_name": "R",
   "language": "R",
   "name": "ir"
  },
  "language_info": {
   "codemirror_mode": "r",
   "file_extension": ".r",
   "mimetype": "text/x-r-source",
   "name": "R",
   "pygments_lexer": "r",
   "version": "3.5.1"
  }
 },
 "nbformat": 4,
 "nbformat_minor": 2
}
