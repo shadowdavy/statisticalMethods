{
 "cells": [
  {
   "cell_type": "markdown",
   "metadata": {},
   "source": [
    "# Statistical Methods (SS18) {-}\n",
    "## David Bubeck, Henrik Lukas Ruh & Manuel Bayer {-}\n",
    "## Exercise 2 for August 8, 2018, 9:00 {-}"
   ]
  },
  {
   "cell_type": "markdown",
   "metadata": {},
   "source": [
    "### 2.1 Farthers and sons on the career ladder (analytic problem) {-}\n",
    "Suppose that of the father’s generation 10 % are in U , 40 %\n",
    "in M , and 50 % in L, i.e., $P(U_1)=10\\%$, $P(M_1)=40\\%$ \\& $P(L_1)=50\\%$."
   ]
  },
  {
   "cell_type": "markdown",
   "metadata": {},
   "source": [
    "#### a: What is the probability that a son in the next generation is in U? Analoguously in M , or L?"
   ]
  },
  {
   "cell_type": "markdown",
   "metadata": {},
   "source": [
    "Probability that a son in the next generation is in U given by law of total probability because all the possible events {$U_1$,$M_1$,$L_1$} are mutually exclusive:\n",
    "$$P(U_2)=P(U_2|U_1)P(U_1)+P(U_2|M_1)P(M_1)+P(U_2|L_1)P(L_1)=45\\%\\cdot10\\%+5\\%\\cdot40\\%+1\\%\\cdot50\\%=7\\%$$"
   ]
  },
  {
   "cell_type": "markdown",
   "metadata": {},
   "source": [
    "Probability that a son in the next generation is in M (analogous to U):\n",
    "$$P(M_2)=P(M_2|U_1)P(U_1)+P(M_2|M_1)P(M_1)+P(M_2|L_1)P(L_1)=48\\%\\cdot10\\%+70\\%\\cdot40\\%+50\\%\\cdot50\\%=57.8\\%$$"
   ]
  },
  {
   "cell_type": "markdown",
   "metadata": {},
   "source": [
    "Probability that a son in the next generation is in L (analogous to U):\n",
    "$$P(L_2)=P(L_2|U_1)P(U_1)+P(L_2|M_1)P(M_1)+P(L_2|L_1)P(L_1)=7\\%\\cdot10\\%+25\\%\\cdot40\\%+49\\%\\cdot50\\%=35.2\\%$$"
   ]
  },
  {
   "cell_type": "markdown",
   "metadata": {},
   "source": [
    "#### b: If a son has occupational status $U_2$, what is the probability that his father had occupational status $U_1$? Analoguously $M_1$, or $L_1$?"
   ]
  },
  {
   "cell_type": "markdown",
   "metadata": {},
   "source": [
    "Use Bayes' theorem: $$P(U_1|U_2)=\\frac{P(U_2|U_1)P(U_1)}{P(U_2)}=\\frac{45\\%\\cdot10\\%}{7\\%}\\simeq64.3\\%$$"
   ]
  },
  {
   "cell_type": "markdown",
   "metadata": {},
   "source": [
    "Analogous to $U_1$: $$P(M_1|U_2)=\\frac{P(U_2|M_1)P(M_1)}{P(U_2)}=\\frac{5\\%\\cdot40\\%}{7\\%}\\simeq28.6\\%$$"
   ]
  },
  {
   "cell_type": "markdown",
   "metadata": {},
   "source": [
    "Analogous to $U_1$: $$P(L_1|U_2)=\\frac{P(U_2|L_1)P(L_1)}{P(U_2)}=\\frac{1\\%\\cdot50\\%}{7\\%}\\simeq7.1\\%$$"
   ]
  },
  {
   "cell_type": "code",
   "execution_count": null,
   "metadata": {},
   "outputs": [],
   "source": []
  }
 ],
 "metadata": {
  "kernelspec": {
   "display_name": "R",
   "language": "R",
   "name": "ir"
  },
  "language_info": {
   "codemirror_mode": "r",
   "file_extension": ".r",
   "mimetype": "text/x-r-source",
   "name": "R",
   "pygments_lexer": "r",
   "version": "3.5.0"
  }
 },
 "nbformat": 4,
 "nbformat_minor": 2
}
