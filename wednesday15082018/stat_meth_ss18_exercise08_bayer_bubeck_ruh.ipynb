{
 "cells": [
  {
   "cell_type": "markdown",
   "metadata": {},
   "source": [
    "# Statistical Methods (SS18) {-}\n",
    "## David Bubeck, Henrik Lukas Ruh & Manuel Bayer {-}\n",
    "## Exercise 8 for August 16, 2018, 9:00 {-}"
   ]
  },
  {
   "cell_type": "markdown",
   "metadata": {},
   "source": [
    "### 8.1 Return to the lighthouse {-}\n",
    "We extend the lighthouse problem now by considering the position along the beach x0 as unknown, becoming a to-be-estimated parameter. To estimate the (x0; y0) vector you should set-up its joint posterior PDF. From that derive the MAP, the mean, the standard deviation of x0, and y0, and their correlation. To this end, construct a reasonably fine grid in x and y and calculate the posterior on that 2D grid. You should try two priors: (i) a flat prior p(x; y) / 1; (ii) a prior p(x; y) / 1 y(1+x2) This means, assume a Cauchy distribution for x centered at the origin, and an uninformative prior for y. \n",
    "\n",
    "##### a: Plot the normalized posterior for both priors.\n",
    "##### b: Can you explain the differences or similarities between the two cases?\n",
    "##### c: Do you have an idea how to determine the joint confidence region for (x0; y0)?\n",
    "##### d: Optional: sample the posterior with a Markov chain to calculate the means etc"
   ]
  },
  {
   "cell_type": "code",
   "execution_count": 15,
   "metadata": {},
   "outputs": [
    {
     "data": {
      "text/html": [
       "<table>\n",
       "<thead><tr><th scope=col>V1</th></tr></thead>\n",
       "<tbody>\n",
       "\t<tr><td>-57.20</td></tr>\n",
       "\t<tr><td>-18.53</td></tr>\n",
       "\t<tr><td>-10.66</td></tr>\n",
       "\t<tr><td> -4.79</td></tr>\n",
       "\t<tr><td> -4.16</td></tr>\n",
       "\t<tr><td> -2.59</td></tr>\n",
       "</tbody>\n",
       "</table>\n"
      ],
      "text/latex": [
       "\\begin{tabular}{r|l}\n",
       " V1\\\\\n",
       "\\hline\n",
       "\t -57.20\\\\\n",
       "\t -18.53\\\\\n",
       "\t -10.66\\\\\n",
       "\t  -4.79\\\\\n",
       "\t  -4.16\\\\\n",
       "\t  -2.59\\\\\n",
       "\\end{tabular}\n"
      ],
      "text/markdown": [
       "\n",
       "V1 | \n",
       "|---|---|---|---|---|---|\n",
       "| -57.20 | \n",
       "| -18.53 | \n",
       "| -10.66 | \n",
       "|  -4.79 | \n",
       "|  -4.16 | \n",
       "|  -2.59 | \n",
       "\n",
       "\n"
      ],
      "text/plain": [
       "  V1    \n",
       "1 -57.20\n",
       "2 -18.53\n",
       "3 -10.66\n",
       "4  -4.79\n",
       "5  -4.16\n",
       "6  -2.59"
      ]
     },
     "metadata": {},
     "output_type": "display_data"
    }
   ],
   "source": [
    "library(rmutil) # Package for two dimensional integration\n",
    "\n",
    "# read in data\n",
    "data <- read.table(\"lighthouse.dat\", header=FALSE)\n",
    "\n",
    "# display some of the data\n",
    "head(data)\n",
    "\n",
    "xk <- data$V1"
   ]
  },
  {
   "cell_type": "code",
   "execution_count": 128,
   "metadata": {
    "collapsed": true
   },
   "outputs": [],
   "source": [
    "samp <- 100 # Sampling of 2D grid\n",
    "x0range <- seq(0,2.5, length=samp)\n",
    "y0range <- seq(0.01,5, length=samp)\n",
    "\n",
    "L <- function(x0, y0) prod(1/(2 * pi) * y0 / (x0 ** 2 - 2*x0 * xk + y0 ** 2 + xk ** 2)) # Likelihood\n",
    "uninfo_prior <- 1 # Not normalised uninformative prior\n",
    "cauchy_prior <- function(x, y) 1/(y * (1 + x ** 2)) # Not normalised Cauchy prior\n",
    "\n",
    "uninfo_posterior <- function(x0, y0)  L(x0, y0)*uninfo_prior # Not normalised posterior for the uninformative prior\n",
    "cauchy_posterior <- function(x0, y0) L(x0, y0)*cauchy_prior(x0, y0) # Not normalised posterior wrt Cauchy prior\n",
    "\n",
    "uninfo_posterior_v <- function(v)  L(v[1], v[2])*uninfo_prior # Not normalised posterior for the uninformative prior\n",
    "cauchy_posterior_v <- function(v) L(v[1], v[2])*cauchy_prior(v[1], v[2]) # Not normalised posterior wrt Cauchy prior\n",
    "\n",
    "uninfo_posterior_val <- matrix(ncol=samp, nrow=samp) # Initialisation of the matrix containing the not normalised posterior values for the uninformative prior\n",
    "cauchy_posterior_val <- matrix(ncol=samp, nrow=samp) # Initialisation of the matrix containing the not normalised posterior values for the Cauchy prior\n",
    "\n",
    "# vector with all possible coordinates\n",
    "coords <- expand.grid(x0range, y0range)\n",
    "uninfo_posterior_val <- matrix(apply(coords,1,uninfo_posterior_v),ncol=samp, nrow=samp)\n",
    "cauchy_posterior_val <- matrix(apply(coords,1,cauchy_posterior_v),ncol=samp, nrow=samp)\n",
    "\n",
    "# normalization\n",
    "uninfo_integral <-  int2(uninfo_posterior, a=c(-Inf,-Inf), b=c(Inf,Inf)) # Normalised posterior regarding uninformative posterior\n",
    "cauchy_integral <-  int2(cauchy_posterior,  a=c(0.01,0.01), b=c(100,100)) # Normalised posterior for Cauchy prior\n",
    "\n",
    "uninfo_norm_posterior <- uninfo_posterior_val/uninfo_integral\n",
    "cauchy_norm_posterior <- cauchy_posterior_val/cauchy_integral"
   ]
  },
  {
   "cell_type": "code",
   "execution_count": 129,
   "metadata": {},
   "outputs": [
    {
     "name": "stdout",
     "output_type": "stream",
     "text": [
      "\n",
      "Uninformative prior (x0,y0)\n",
      "---------------------\n",
      "MAP =  0.4292929 0.8668687  miles\n",
      "mean =  0.2415621 1.228708  miles\n",
      "median =  2.222222 5  miles\n",
      "sigma =  3.949896 11.13559  miles\n",
      "\n",
      "Cauchy prior (x0,y0)\n",
      "---------------------\n",
      "MAP =  0.4292929 0.8668687  miles\n",
      "mean =  0.4684478 2.408323  miles\n",
      "median =    miles\n",
      "sigma =  5.467943 15.35001  miles\n"
     ]
    }
   ],
   "source": [
    "# statistics\n",
    "# step size for numerical integration\n",
    "dx <- (max(x0range)-min(x0range))/length(x0range)\n",
    "dy <- (max(y0range)-min(y0range))/length(y0range)\n",
    "\n",
    "##### Uninformative prior #####\n",
    "uninfo_map <- c(x0range[which.max(uninfo_norm_posterior) %/% samp], \n",
    "                y0range[which.max(uninfo_norm_posterior)%/% samp]) # MAP\n",
    "uninfo_mean <- c(sum(colSums(uninfo_norm_posterior)*x0range)*dx*dy, \n",
    "                 sum(rowSums(uninfo_norm_posterior)*y0range)*dx*dy) # Mean  \n",
    "uninfo_median <- c(x0range[which.min((cumsum(colSums(uninfo_norm_posterior))\n",
    "                                      /samp ** 2*(max(x0range)-min(x0range))-.5)**2)], \n",
    "                   y0range[which.min((cumsum(rowSums(uninfo_norm_posterior))\n",
    "                                      /samp ** 2*(max(y0range)-min(y0range))-.5)**2)]) # Median\n",
    "uninfo_sig <- c((sum(colSums(uninfo_norm_posterior * x0range ** 2)) * (max(x0range)-min(x0range))/length(x0range) \n",
    "                 - uninfo_mean[1] ** 2)**.5, \n",
    "                (sum(rowSums(uninfo_norm_posterior * y0range ** 2)) * (max(y0range)-min(y0range))/length(y0range) \n",
    "                 - uninfo_mean[2] ** 2)**.5) # Standard deviation\n",
    "\n",
    "cat(\"\\nUninformative prior (x0,y0)\\n---------------------\\n\")\n",
    "cat(\"MAP = \", uninfo_map,\" miles\\n\")\n",
    "cat(\"mean = \", uninfo_mean,\" miles\\n\")\n",
    "cat(\"median = \", uninfo_median,\" miles\\n\")\n",
    "cat(\"sigma = \", uninfo_sig,\" miles\\n\")\n",
    "\n",
    "##### Cauchy prior #####\n",
    "cauchy_map <- c(x0range[which.max(cauchy_norm_posterior) %/% samp], y0range[which.max(cauchy_norm_posterior) %/% samp]) # MAP\n",
    "cauchy_mean <- c(sum(colSums(cauchy_norm_posterior)*x0range)*dx*dy, \n",
    "                 sum(rowSums(cauchy_norm_posterior)*y0range)*dx*dy) # Mean  cauchy_median <- c(x0range[which.min((cumsum(colSums(cauchy_norm_posterior))/samp ** 2*(max(x0range)-min(x0range))-.5)**2)], y0range[which.min((cumsum(rowSums(cauchy_norm_posterior))/samp ** 2*(max(y0range)-min(y0range))-.5)**2)]) # Median\n",
    "cauchy_sig <- c((sum(colSums(cauchy_norm_posterior * x0range ** 2)) * (max(x0range)-min(x0range))/length(x0range) - cauchy_mean[1] ** 2)**.5, (sum(rowSums(cauchy_norm_posterior * y0range ** 2)) * (max(y0range)-min(y0range))/length(y0range) - cauchy_mean[2] ** 2)**.5) # Standard deviation\n",
    "\n",
    "cat(\"\\nCauchy prior (x0,y0)\\n---------------------\\n\")\n",
    "cat(\"MAP = \", cauchy_map,\" miles\\n\")\n",
    "cat(\"mean = \", cauchy_mean,\" miles\\n\")\n",
    "cat(\"median = \", cauchy_median,\" miles\\n\")\n",
    "cat(\"sigma = \", cauchy_sig,\" miles\\n\")"
   ]
  },
  {
   "cell_type": "code",
   "execution_count": 130,
   "metadata": {},
   "outputs": [
    {
     "data": {
      "text/html": [
       "0.144937247991913"
      ],
      "text/latex": [
       "0.144937247991913"
      ],
      "text/markdown": [
       "0.144937247991913"
      ],
      "text/plain": [
       "[1] 0.1449372"
      ]
     },
     "metadata": {},
     "output_type": "display_data"
    },
    {
     "data": {
      "text/html": [
       "0.490049940834865"
      ],
      "text/latex": [
       "0.490049940834865"
      ],
      "text/markdown": [
       "0.490049940834865"
      ],
      "text/plain": [
       "[1] 0.4900499"
      ]
     },
     "metadata": {},
     "output_type": "display_data"
    },
    {
     "data": {
      "text/html": [
       "1.15087180437636e-88"
      ],
      "text/latex": [
       "1.15087180437636e-88"
      ],
      "text/markdown": [
       "1.15087180437636e-88"
      ],
      "text/plain": [
       "[1] 1.150872e-88"
      ]
     },
     "metadata": {},
     "output_type": "display_data"
    },
    {
     "data": {
      "image/png": "[encoded data removed]",
      "text/plain": [
       "plot without title"
      ]
     },
     "metadata": {},
     "output_type": "display_data"
    }
   ],
   "source": [
    "plot(x0range,colSums(uninfo_norm_posterior)*x0range*dy)\n",
    "mean(colSums(uninfo_norm_posterior)*x0range*dy)*1.5\n",
    "sum(colSums(uninfo_norm_posterior))*dx*dy\n",
    "int2(uninfo_posterior, a=c(0,0), b=c(Inf,Inf))"
   ]
  },
  {
   "cell_type": "code",
   "execution_count": 55,
   "metadata": {},
   "outputs": [
    {
     "data": {
      "image/png": "[encoded data removed]",
      "text/plain": [
       "Plot with title \"Uninformative prior\""
      ]
     },
     "metadata": {},
     "output_type": "display_data"
    },
    {
     "data": {
      "image/png": "[encoded data removed]",
      "text/plain": [
       "Plot with title \"Cauchy prior\""
      ]
     },
     "metadata": {},
     "output_type": "display_data"
    }
   ],
   "source": [
    "##### a #####\n",
    "\n",
    "# plotting\n",
    "contour(x0range, y0range, uninfo_norm_posterior, xlab=expression('x'[0]), ylab=expression('y'[0]), main=\"Uninformative prior\") # Contour plot of posterior using uninformative prior\n",
    "#persp(x0range, y0range, uninfo_norm_posterior, xlab=expression('x'[0]), ylab=expression('y'[0]), zlab=\"posterior\", main=\"Uninformative prior\") # 3D surface plot of posterior for uninformative prior\n",
    "contour(x0range, y0range, cauchy_norm_posterior, xlab=expression('x'[0]), ylab=expression('y'[0]), main=\"Cauchy prior\") # Contour plot of posterior using Cauchy prior\n",
    "#persp(x0range, y0range, uninfo_norm_posterior, xlab=expression('x'[0]), ylab=expression('y'[0]), zlab=\"posterior\", main=\"Cauchy prior\") # 3D surface plot of posterior for Cauchy prior"
   ]
  },
  {
   "cell_type": "markdown",
   "metadata": {},
   "source": [
    "### 8.2 Interpretation of the p-value {-}\n",
    "In a special issue of the \\Spektrum der Wissenschaft\" Magazine entitled Vorsicht Statistik! your lecturer came across an article on the interpretation (or often mis-interpretation) of the p-value in hypothesis testing. The article contained the following information box:\n",
    "\n",
    "---\n",
    "\n",
    "The question now is: do the numbers given in the figure of the box make sense? Can you confirm the numbers?\n",
    "\n",
    "##### a: Apparently, the box is about hypothesis testing. While it is not clearly stated, the given p- values can be interpreted as significance level of the test (the experiment) that is conducted to decide whether a substance is effective or not. Assuming this, what is exactly meant by \"Wahrscheinlichkeit nach dem Experiment\" (probability after the experiment)?"
   ]
  },
  {
   "cell_type": "markdown",
   "metadata": {},
   "source": [
    "\n",
    "#### A:\n",
    "The 'Wahrscheinlichkeit nach dem Eperiment'  $p_{nE}$, hereafter denoted with WnE, describes the probability that a hypothesis is true given that the substance was tested to be effective ($+$). The two possible hypothesis are (i) the nul hypothesis $\\mathrm{H}_0$, meaning the substance is in fact not effective, and (ii) the hypothesis that the substance is effective $\\mathrm{\\bar H}_0$. Hence,\n",
    "$$\n",
    "p_{nE}(\\mathrm{H}_0) = p(\\mathrm{H}_0|+),\n",
    "$$\n",
    "$$\n",
    "p_{nE}(\\mathrm{\\bar H}_0) = p(\\mathrm{\\bar H}_0|+).\n",
    "$$"
   ]
  },
  {
   "cell_type": "markdown",
   "metadata": {},
   "source": [
    "##### b: No statement is made about the power of the test. However, this is an important piece of information. Can you \"reverse engineer\" the power of the test(s)? Is it always the same? "
   ]
  },
  {
   "cell_type": "markdown",
   "metadata": {},
   "source": [
    "\n",
    "#### A:\n",
    "The power of the test $\\beta$ denotes the probability that the test is positive, the substance is measured to be effective, under the condition that the hypothesis $\\mathrm{\\bar H}_0$ is fulfilled, the substance is indeed effective, and is given by\n",
    "$$\n",
    "\\beta = p(+|\\mathrm{\\bar H}_0).\n",
    "$$\n",
    "\n",
    "The given piece of information is the significance level $\\alpha$, where\n",
    "$$\n",
    "\\alpha = p(+|\\mathrm{\\bar H}_0).\n",
    "$$\n",
    "\n",
    "Now, we can compute $\\beta$, where we use the Bayes theorem.\n",
    "$$\n",
    "\\frac{\\alpha}{\\beta} = \\frac{p(+|\\mathrm{H}_0)}{p(+|\\mathrm{\\bar H}_0)}\n",
    "= \\frac{p(\\mathrm{H}_0|+)p(\\mathrm{\\bar H}_0)p(+)}{p(\\mathrm{\\bar H}_0|+)p(\\mathrm{ H}_0)p(+)}\n",
    "= \\frac{p(\\mathrm{H}_0|+)p(\\mathrm{\\bar  H}_0)}{p(\\mathrm{\\bar H}_0|+)p(\\mathrm{H}_0)}.\n",
    "$$\n",
    "\n",
    "Herein, $ p(\\mathrm{H}_0)$ and $p(\\mathrm{\\bar H}_0)$ are the 'a priori' probabilties of the hypothesis. Thus,\n",
    "$$\n",
    "\\beta = \\alpha \\ \\frac{p_{nE}(\\mathrm{\\bar H}_0)p(\\mathrm{ H}_0)}{p_{nE}(\\mathrm{ H}_0)p(\\mathrm{\\bar  H}_0)}.\n",
    "$$\n",
    "\n",
    "The $\\beta$ values for the data in the box are given in the table below.\n",
    "\n",
    "|         | $\\alpha = 0.05$       | $\\alpha = 0.01$        |\n",
    "|---------------------|---------------------|---------------------|\n",
    "| case 1 | $\\beta = 0.12$    | $\\beta = 0.08$    |   \n",
    "| case 2 | $\\beta = 0.12$    | $\\beta = 0.08$    | \n",
    "| case 3 | $\\beta = 0.13$    | $\\beta = 0.11$    | \n",
    "\n",
    "case 1: 'abwegige Idee',\n",
    "case 2: 'Münzwurf',\n",
    "case 3: 'fast sichere Sache'"
   ]
  },
  {
   "cell_type": "markdown",
   "metadata": {},
   "source": [
    "##### c: What is your opinion about the given example?\n",
    "\n",
    "#### A:\n",
    "The power of the test is quite low, meaning that if we had a larger $\\beta$ the WnE for the substance to be effective would be larger as well. However, the example shows that one has to be careful what kind of probability is stated. in especially, the p-value is not the complement of the probability that a hypothesis is true."
   ]
  }
 ],
 "metadata": {
  "anaconda-cloud": {},
  "kernelspec": {
   "display_name": "R",
   "language": "R",
   "name": "ir"
  },
  "language_info": {
   "codemirror_mode": "r",
   "file_extension": ".r",
   "mimetype": "text/x-r-source",
   "name": "R",
   "pygments_lexer": "r",
   "version": "3.5.1"
  }
 },
 "nbformat": 4,
 "nbformat_minor": 2
}
