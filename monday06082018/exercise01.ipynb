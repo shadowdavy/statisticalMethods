{
 "cells": [
  {
   "cell_type": "markdown",
   "metadata": {},
   "source": [
    "# Statistical Methods (SS18)\n",
    "## David Bubeck, Henrik Lukas Ruh & Manuel Bayer\n",
    "## Exercise 1 for August 7, 2018, 9:00"
   ]
  },
  {
   "cell_type": "markdown",
   "metadata": {},
   "source": [
    "### 1.3 First real steps in R"
   ]
  },
  {
   "cell_type": "markdown",
   "metadata": {},
   "source": [
    "#### a: Do Exercise 3 of the tutorial on R. Give the three wavelengths as solution. Provide your solution."
   ]
  },
  {
   "cell_type": "markdown",
   "metadata": {},
   "source": [
    "##### (1) Reading in the file"
   ]
  },
  {
   "cell_type": "code",
   "execution_count": 1,
   "metadata": {},
   "outputs": [],
   "source": [
    "feI_lines <- read.table(\"feI_lines.txt\", header=TRUE)"
   ]
  },
  {
   "cell_type": "markdown",
   "metadata": {},
   "source": [
    "##### (2) Computation of predicted strengths of the lines"
   ]
  },
  {
   "cell_type": "markdown",
   "metadata": {},
   "source": [
    "$$\\log W_\\lambda\\propto\\log gf-\\chi\\Leftrightarrow W_\\lambda\\propto 10^{\\log gf-\\chi}$$"
   ]
  },
  {
   "cell_type": "code",
   "execution_count": 2,
   "metadata": {},
   "outputs": [],
   "source": [
    "w_lambda <- 10^(feI_lines$loggf-feI_lines$chi)"
   ]
  },
  {
   "cell_type": "markdown",
   "metadata": {},
   "source": [
    "##### (3) Identification of the three strongest lines"
   ]
  },
  {
   "cell_type": "code",
   "execution_count": 3,
   "metadata": {},
   "outputs": [
    {
     "data": {
      "image/png": "[encoded data removed]",
      "text/plain": [
       "plot without title"
      ]
     },
     "metadata": {},
     "output_type": "display_data"
    }
   ],
   "source": [
    "plot(feI_lines$lam,w_lambda,type=\"l\",xlab=expression(lambda),ylab=expression('W'[lambda]))"
   ]
  },
  {
   "cell_type": "code",
   "execution_count": 4,
   "metadata": {},
   "outputs": [],
   "source": [
    "#strong_lines <- locator(3)\n",
    "#print(strong_lines)"
   ]
  },
  {
   "cell_type": "markdown",
   "metadata": {},
   "source": [
    "The locator function can not be used in jupyter. Thus, we execute all the lines in a terminal with the following results:\n",
    "\n",
    "x = 3023.911   3584.782    3722.701\n",
    "\n",
    "y = 0.9294639  0.3473319   0.3636153\n"
   ]
  },
  {
   "cell_type": "markdown",
   "metadata": {},
   "source": [
    "###### Alternative approach for identifying the three strongest lines"
   ]
  },
  {
   "cell_type": "code",
   "execution_count": 5,
   "metadata": {},
   "outputs": [
    {
     "data": {
      "text/html": [
       "<table>\n",
       "<thead><tr><th></th><th scope=col>lam</th><th scope=col>chi</th><th scope=col>loggf</th></tr></thead>\n",
       "<tbody>\n",
       "\t<tr><th scope=row>56</th><td>3020.639</td><td>0.000   </td><td>-0.030  </td></tr>\n",
       "\t<tr><th scope=row>59</th><td>3021.073</td><td>0.052   </td><td>-0.360  </td></tr>\n",
       "\t<tr><th scope=row>2344</th><td>3719.935</td><td>0.000   </td><td>-0.431  </td></tr>\n",
       "</tbody>\n",
       "</table>\n"
      ],
      "text/latex": [
       "\\begin{tabular}{r|lll}\n",
       "  & lam & chi & loggf\\\\\n",
       "\\hline\n",
       "\t56 & 3020.639 & 0.000    & -0.030  \\\\\n",
       "\t59 & 3021.073 & 0.052    & -0.360  \\\\\n",
       "\t2344 & 3719.935 & 0.000    & -0.431  \\\\\n",
       "\\end{tabular}\n"
      ],
      "text/markdown": [
       "\n",
       "| <!--/--> | lam | chi | loggf | \n",
       "|---|---|---|\n",
       "| 56 | 3020.639 | 0.000    | -0.030   | \n",
       "| 59 | 3021.073 | 0.052    | -0.360   | \n",
       "| 2344 | 3719.935 | 0.000    | -0.431   | \n",
       "\n",
       "\n"
      ],
      "text/plain": [
       "     lam      chi   loggf \n",
       "56   3020.639 0.000 -0.030\n",
       "59   3021.073 0.052 -0.360\n",
       "2344 3719.935 0.000 -0.431"
      ]
     },
     "metadata": {},
     "output_type": "display_data"
    }
   ],
   "source": [
    "(feI_lines[rev(order(w_lambda)),][1:3,]) # Order by descending strength and choose the first three"
   ]
  },
  {
   "cell_type": "markdown",
   "metadata": {},
   "source": [
    "Obviously, the strongest line consist of two lines which can not be separated by eye. This can be seen by comparing the resulting values from the locator and the sort approach (see table above)."
   ]
  },
  {
   "cell_type": "code",
   "execution_count": 6,
   "metadata": {},
   "outputs": [
    {
     "data": {
      "text/html": [
       "<ol class=list-inline>\n",
       "\t<li>0.933254300796991</li>\n",
       "\t<li>0.387257644921617</li>\n",
       "\t<li>0.370680721782576</li>\n",
       "</ol>\n"
      ],
      "text/latex": [
       "\\begin{enumerate*}\n",
       "\\item 0.933254300796991\n",
       "\\item 0.387257644921617\n",
       "\\item 0.370680721782576\n",
       "\\end{enumerate*}\n"
      ],
      "text/markdown": [
       "1. 0.933254300796991\n",
       "2. 0.387257644921617\n",
       "3. 0.370680721782576\n",
       "\n",
       "\n"
      ],
      "text/plain": [
       "[1] 0.9332543 0.3872576 0.3706807"
      ]
     },
     "metadata": {},
     "output_type": "display_data"
    }
   ],
   "source": [
    "(w_lambda[rev(order(w_lambda))][1:3]) # Appropriate strength values for strongest lines"
   ]
  },
  {
   "cell_type": "markdown",
   "metadata": {},
   "source": [
    "#### c: Do Exercise 5 of the tutorial on R. Provide your R-code and the output of a test run of your routine as solution."
   ]
  },
  {
   "cell_type": "code",
   "execution_count": 7,
   "metadata": {},
   "outputs": [],
   "source": [
    "primeNum <- function(n){\n",
    "    # initialise empty prime vector (note vector is NULL not really empty)\n",
    "    prime <- c()\n",
    "    # one is not a prime number return message\n",
    "    if(n == 1) {\n",
    "        return(\"one is not a prime number\")\n",
    "    } else {\n",
    "        # if n is greater than one\n",
    "        # for improvement we can check for prime numbers between a range of numbers\n",
    "        # therefore we can commit, instead of a value n, two numbers lowerN and upperN\n",
    "        # after that we can set the for loop instead in range of 2:n to lowerN:upperN\n",
    "        for(num in 2:n) {\n",
    "            # number is prime until proofen wrong\n",
    "            isPrime = TRUE\n",
    "            for(i in 2:(num - 1)) {\n",
    "                # if number is two continue because two is prime number\n",
    "                if (num == 2) {\n",
    "                    isPrime = TRUE\n",
    "                } else if ((num %% i) == 0) {\n",
    "                    # if number can be divided by any other number set\n",
    "                    # isPrime to false, because than the checked number is no\n",
    "                    # prime number\n",
    "                    isPrime = FALSE\n",
    "                }\n",
    "            }\n",
    "            if(isPrime) {\n",
    "                # append prime vector with the cecked prime numbers\n",
    "                prime <- c(prime, num)\n",
    "            }\n",
    "        }\n",
    "    }\n",
    "    return(prime)\n",
    "}"
   ]
  },
  {
   "cell_type": "code",
   "execution_count": 8,
   "metadata": {},
   "outputs": [
    {
     "name": "stdout",
     "output_type": "stream",
     "text": [
      " [1]  2  3  5  7 11 13 17 19 23 29 31 37 41 43 47 53 59 61 67 71 73 79 83 89 97\n"
     ]
    }
   ],
   "source": [
    "# test for n=100\n",
    "print(primeNum(100))"
   ]
  }
 ],
 "metadata": {
  "kernelspec": {
   "display_name": "R",
   "language": "R",
   "name": "ir"
  },
  "language_info": {
   "codemirror_mode": "r",
   "file_extension": ".r",
   "mimetype": "text/x-r-source",
   "name": "R",
   "pygments_lexer": "r",
   "version": "3.5.0"
  }
 },
 "nbformat": 4,
 "nbformat_minor": 2
}
