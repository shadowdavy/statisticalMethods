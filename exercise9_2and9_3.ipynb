{
 "cells": [
  {
   "cell_type": "markdown",
   "metadata": {},
   "source": [
    "## 9.2 Correlation test: Hubble expansion\n",
    "Hubble's 1929 discovery of the proportionality between the distance and the recession velocity of galaxies marked the beginning of the era of observational cosmology.\n",
    "\n",
    "##### a: Generate a perfectly correlated dataset $x_i,y_i$ (e.g. using seq()), and a totally uncorrelated dataset (e.g., using rnorm()). Compute the Spearman rank correlation coefficient $r_S$ for both datasets.\n",
    "\n",
    "##### A: \n",
    "A dataset $x_i,y_i$ is correlated, if a functional dependence between the $x_i$ and $y_i$ exists. The simpelest dependence is a proportionality. For the example implemented below, we obtain a $r_S$ of one, meaning the dataset is positively correlated.\n",
    "The dataset is uncorrelated, if the $x_i$ and $y_i$  are independant of each other. An independance can be achived by choosing random numbers for the parameters. For the example implemented below, we obtain a $r_S$ of approximately zero, meaning the dataset is uncorrelated."
   ]
  },
  {
   "cell_type": "code",
   "execution_count": 1,
   "metadata": {
    "collapsed": true
   },
   "outputs": [],
   "source": [
    "# generate correlated dataset\n",
    "size_dataset <- 100\n",
    "x_cor <- seq(0,1,1/(size_dataset-1))\n",
    "y_cor <- 2*x_cor\n",
    "\n",
    "# generate uncorrelated dataset\n",
    "x_uncor <- rnorm(size_dataset)\n",
    "y_uncor <- rnorm(size_dataset)"
   ]
  },
  {
   "cell_type": "code",
   "execution_count": 2,
   "metadata": {
    "collapsed": true
   },
   "outputs": [],
   "source": [
    "# Spearman rank correlation coefficient \n",
    "\n",
    "r_S_fun <- function (x,y){\n",
    "    N <- length(x)\n",
    "    r <- 1-6*sum((rank(x)-rank(y))**2)/(N**3-N)\n",
    "    return(r)\n",
    "}"
   ]
  },
  {
   "cell_type": "code",
   "execution_count": 3,
   "metadata": {},
   "outputs": [
    {
     "name": "stdout",
     "output_type": "stream",
     "text": [
      "\n",
      "Correlation coefficient of correlated dataset\n",
      "----------------------------------\n",
      "r_S =  1\n",
      "Correlation coefficient of uncorrelated dataset\n",
      "----------------------------------\n",
      "r_S =  -0.06612661"
     ]
    }
   ],
   "source": [
    "# test the correlation\n",
    "\n",
    "cat('\\nCorrelation coefficient of correlated dataset\\n----------------------------------\\n')\n",
    "r_S_cor <- r_S_fun(x_cor,y_cor)\n",
    "cat('r_S = ',r_S_cor)\n",
    "\n",
    "cat('\\nCorrelation coefficient of uncorrelated dataset\\n----------------------------------\\n')\n",
    "r_S_uncor <- r_S_fun(x_uncor,y_uncor)\n",
    "cat('r_S = ',r_S_uncor)\n"
   ]
  },
  {
   "cell_type": "markdown",
   "metadata": {},
   "source": [
    "##### b: Load the Hubble dataset (file Hubble.dat) into R and compute $r_S$.\n",
    "\n",
    "##### A: \n",
    "The Hubble dataset contains distances and velocities. We obtain a $r_S$ of approximately 0.87. Consequently, the dataset is correlated."
   ]
  },
  {
   "cell_type": "code",
   "execution_count": 4,
   "metadata": {},
   "outputs": [
    {
     "data": {
      "text/html": [
       "<table>\n",
       "<thead><tr><th scope=col>dist</th><th scope=col>vel</th></tr></thead>\n",
       "<tbody>\n",
       "\t<tr><td>0.04  </td><td> 111.1</td></tr>\n",
       "\t<tr><td>0.03  </td><td> -83.3</td></tr>\n",
       "\t<tr><td>0.19  </td><td>  97.2</td></tr>\n",
       "\t<tr><td>0.25  </td><td>  27.8</td></tr>\n",
       "\t<tr><td>0.27  </td><td> -69.4</td></tr>\n",
       "\t<tr><td>0.26  </td><td>-208.3</td></tr>\n",
       "\t<tr><td>0.42  </td><td> 819.4</td></tr>\n",
       "\t<tr><td>0.50  </td><td> 819.4</td></tr>\n",
       "\t<tr><td>0.50  </td><td> 958.3</td></tr>\n",
       "\t<tr><td>0.63  </td><td> 666.7</td></tr>\n",
       "\t<tr><td>0.79  </td><td> 777.8</td></tr>\n",
       "\t<tr><td>0.89  </td><td> 194.4</td></tr>\n",
       "\t<tr><td>0.89  </td><td> 430.6</td></tr>\n",
       "\t<tr><td>0.88  </td><td> 888.9</td></tr>\n",
       "\t<tr><td>0.91  </td><td>1222.2</td></tr>\n",
       "\t<tr><td>1.01  </td><td>1736.1</td></tr>\n",
       "\t<tr><td>1.10  </td><td>1472.2</td></tr>\n",
       "\t<tr><td>1.11  </td><td>1166.7</td></tr>\n",
       "\t<tr><td>1.42  </td><td>1263.9</td></tr>\n",
       "\t<tr><td>1.70  </td><td>2111.1</td></tr>\n",
       "\t<tr><td>2.02  </td><td>1111.1</td></tr>\n",
       "\t<tr><td>2.01  </td><td>1611.1</td></tr>\n",
       "\t<tr><td>2.02  </td><td>1763.9</td></tr>\n",
       "\t<tr><td>2.02  </td><td>2250.0</td></tr>\n",
       "</tbody>\n",
       "</table>\n"
      ],
      "text/latex": [
       "\\begin{tabular}{r|ll}\n",
       " dist & vel\\\\\n",
       "\\hline\n",
       "\t 0.04   &  111.1\\\\\n",
       "\t 0.03   &  -83.3\\\\\n",
       "\t 0.19   &   97.2\\\\\n",
       "\t 0.25   &   27.8\\\\\n",
       "\t 0.27   &  -69.4\\\\\n",
       "\t 0.26   & -208.3\\\\\n",
       "\t 0.42   &  819.4\\\\\n",
       "\t 0.50   &  819.4\\\\\n",
       "\t 0.50   &  958.3\\\\\n",
       "\t 0.63   &  666.7\\\\\n",
       "\t 0.79   &  777.8\\\\\n",
       "\t 0.89   &  194.4\\\\\n",
       "\t 0.89   &  430.6\\\\\n",
       "\t 0.88   &  888.9\\\\\n",
       "\t 0.91   & 1222.2\\\\\n",
       "\t 1.01   & 1736.1\\\\\n",
       "\t 1.10   & 1472.2\\\\\n",
       "\t 1.11   & 1166.7\\\\\n",
       "\t 1.42   & 1263.9\\\\\n",
       "\t 1.70   & 2111.1\\\\\n",
       "\t 2.02   & 1111.1\\\\\n",
       "\t 2.01   & 1611.1\\\\\n",
       "\t 2.02   & 1763.9\\\\\n",
       "\t 2.02   & 2250.0\\\\\n",
       "\\end{tabular}\n"
      ],
      "text/markdown": [
       "\n",
       "dist | vel | \n",
       "|---|---|---|---|---|---|---|---|---|---|---|---|---|---|---|---|---|---|---|---|---|---|---|---|\n",
       "| 0.04   |  111.1 | \n",
       "| 0.03   |  -83.3 | \n",
       "| 0.19   |   97.2 | \n",
       "| 0.25   |   27.8 | \n",
       "| 0.27   |  -69.4 | \n",
       "| 0.26   | -208.3 | \n",
       "| 0.42   |  819.4 | \n",
       "| 0.50   |  819.4 | \n",
       "| 0.50   |  958.3 | \n",
       "| 0.63   |  666.7 | \n",
       "| 0.79   |  777.8 | \n",
       "| 0.89   |  194.4 | \n",
       "| 0.89   |  430.6 | \n",
       "| 0.88   |  888.9 | \n",
       "| 0.91   | 1222.2 | \n",
       "| 1.01   | 1736.1 | \n",
       "| 1.10   | 1472.2 | \n",
       "| 1.11   | 1166.7 | \n",
       "| 1.42   | 1263.9 | \n",
       "| 1.70   | 2111.1 | \n",
       "| 2.02   | 1111.1 | \n",
       "| 2.01   | 1611.1 | \n",
       "| 2.02   | 1763.9 | \n",
       "| 2.02   | 2250.0 | \n",
       "\n",
       "\n"
      ],
      "text/plain": [
       "   dist vel   \n",
       "1  0.04  111.1\n",
       "2  0.03  -83.3\n",
       "3  0.19   97.2\n",
       "4  0.25   27.8\n",
       "5  0.27  -69.4\n",
       "6  0.26 -208.3\n",
       "7  0.42  819.4\n",
       "8  0.50  819.4\n",
       "9  0.50  958.3\n",
       "10 0.63  666.7\n",
       "11 0.79  777.8\n",
       "12 0.89  194.4\n",
       "13 0.89  430.6\n",
       "14 0.88  888.9\n",
       "15 0.91 1222.2\n",
       "16 1.01 1736.1\n",
       "17 1.10 1472.2\n",
       "18 1.11 1166.7\n",
       "19 1.42 1263.9\n",
       "20 1.70 2111.1\n",
       "21 2.02 1111.1\n",
       "22 2.01 1611.1\n",
       "23 2.02 1763.9\n",
       "24 2.02 2250.0"
      ]
     },
     "metadata": {},
     "output_type": "display_data"
    }
   ],
   "source": [
    "# read in data\n",
    "data <- read.table(\"Hubble.dat\", header=TRUE)\n",
    "\n",
    "# display the data\n",
    "data"
   ]
  },
  {
   "cell_type": "code",
   "execution_count": 5,
   "metadata": {},
   "outputs": [
    {
     "name": "stdout",
     "output_type": "stream",
     "text": [
      "\n",
      "Correlation coefficient of Hubble dataset\n",
      "----------------------------------\n",
      "r_S =  0.8717391"
     ]
    }
   ],
   "source": [
    "# test the correlation\n",
    "cat('\\nCorrelation coefficient of Hubble dataset\\n----------------------------------\\n')\n",
    "r_S_hub <- r_S_fun(data$dist,data$vel)\n",
    "cat('r_S = ',r_S_hub)"
   ]
  },
  {
   "cell_type": "markdown",
   "metadata": {},
   "source": [
    "##### c: For all three datasets, carry out a test of the null hypthesis that the x and y values are not correlated (use cor.test(x,y,method=\"spearman\")). In the case of the Hubble dataset you get a Warning message - why?\n",
    "\n",
    "##### A: \n",
    "First of all, we observe that the $r_S$ values are similar to the ones that we obtained before. The null hypothesis is thus rejected for datasets one and three, meaning that this datasets are correlated.\n",
    "\n",
    "The warning message appears to result from some of the distance values appearing multiple times within the data. One possibility is that Hubble was observing galxies of a galaxy cluster. The distances of the cluster are approximately the same, thus the distance appears multiple times.\n",
    "The problem with this is, that the rank is not unique anymore."
   ]
  },
  {
   "cell_type": "code",
   "execution_count": 6,
   "metadata": {},
   "outputs": [
    {
     "name": "stdout",
     "output_type": "stream",
     "text": [
      "\n",
      "Spearman test of correlated dataset\n",
      "----------------------------------\n"
     ]
    },
    {
     "data": {
      "text/plain": [
       "\n",
       "\tSpearman's rank correlation rho\n",
       "\n",
       "data:  x_cor and y_cor\n",
       "S = 0, p-value < 2.2e-16\n",
       "alternative hypothesis: true rho is not equal to 0\n",
       "sample estimates:\n",
       "rho \n",
       "  1 \n"
      ]
     },
     "metadata": {},
     "output_type": "display_data"
    },
    {
     "name": "stdout",
     "output_type": "stream",
     "text": [
      "\n",
      "Spearman test of uncorrelated dataset\n",
      "----------------------------------\n"
     ]
    },
    {
     "data": {
      "text/plain": [
       "\n",
       "\tSpearman's rank correlation rho\n",
       "\n",
       "data:  x_uncor and y_uncor\n",
       "S = 177670, p-value = 0.5127\n",
       "alternative hypothesis: true rho is not equal to 0\n",
       "sample estimates:\n",
       "        rho \n",
       "-0.06612661 \n"
      ]
     },
     "metadata": {},
     "output_type": "display_data"
    },
    {
     "name": "stdout",
     "output_type": "stream",
     "text": [
      "\n",
      "Spearman test of Hubble dataset\n",
      "----------------------------------\n"
     ]
    },
    {
     "name": "stderr",
     "output_type": "stream",
     "text": [
      "Warning message in cor.test.default(data$dist, data$vel, method = \"spearman\"):\n",
      "\"Cannot compute exact p-value with ties\""
     ]
    },
    {
     "data": {
      "text/plain": [
       "\n",
       "\tSpearman's rank correlation rho\n",
       "\n",
       "data:  data$dist and data$vel\n",
       "S = 295.45, p-value = 2.954e-08\n",
       "alternative hypothesis: true rho is not equal to 0\n",
       "sample estimates:\n",
       "      rho \n",
       "0.8715442 \n"
      ]
     },
     "metadata": {},
     "output_type": "display_data"
    }
   ],
   "source": [
    "# test the nulhypothesis\n",
    "\n",
    "cat('\\nSpearman test of correlated dataset\\n----------------------------------\\n')\n",
    "(test_cor <- cor.test(x_cor,y_cor, method=\"spearman\"))\n",
    "\n",
    "cat('\\nSpearman test of uncorrelated dataset\\n----------------------------------\\n')\n",
    "(test_uncor <- cor.test(x_uncor,y_uncor, method=\"spearman\"))\n",
    "\n",
    "cat('\\nSpearman test of Hubble dataset\\n----------------------------------\\n')\n",
    "(test_hub <- cor.test(data$dist,data$vel, method=\"spearman\"))\n"
   ]
  },
  {
   "cell_type": "markdown",
   "metadata": {},
   "source": [
    "##### d: Carry out a test of the null hypothesis that the distances of the 24 galaxies in the Hubble dataset are not correlated with the first 24 Fibonacci numbers. What do you find, and where does this result come from? Hint: To calculate the Fibonacci sequence, e.g. start with a vector c(0,1) and use a for-loop to repeatedly append(...) the sum of the last two entries. Alternatively, instead of the Fibonacci sequence you could also use the prime numbers from the first problem sheet.\n",
    "\n",
    "##### A: \n",
    "We obtain a $r_S$ close to one. Thus, the Fibonacci sequence is correlated with the measured distances, and closer correlated than the measured velocities. On the first sight, this result appears to be suprising. But, taking a look on the data shows, that the distance sequence is sorted by increasing value. This can also seen in the plot below. We therefore expect a correlation with the increasing Fibonacci sequence. On the other hand, the velocity data scatters strongly, presumably due to the peculiar motions of galaxies and measurement uncertainties. Hence, a perfect correlation would be the bigger suprise."
   ]
  },
  {
   "cell_type": "code",
   "execution_count": 7,
   "metadata": {},
   "outputs": [
    {
     "data": {
      "text/html": [
       "<ol class=list-inline>\n",
       "\t<li>0</li>\n",
       "\t<li>1</li>\n",
       "\t<li>1</li>\n",
       "\t<li>2</li>\n",
       "\t<li>3</li>\n",
       "\t<li>5</li>\n",
       "\t<li>8</li>\n",
       "\t<li>13</li>\n",
       "\t<li>21</li>\n",
       "\t<li>34</li>\n",
       "</ol>\n"
      ],
      "text/latex": [
       "\\begin{enumerate*}\n",
       "\\item 0\n",
       "\\item 1\n",
       "\\item 1\n",
       "\\item 2\n",
       "\\item 3\n",
       "\\item 5\n",
       "\\item 8\n",
       "\\item 13\n",
       "\\item 21\n",
       "\\item 34\n",
       "\\end{enumerate*}\n"
      ],
      "text/markdown": [
       "1. 0\n",
       "2. 1\n",
       "3. 1\n",
       "4. 2\n",
       "5. 3\n",
       "6. 5\n",
       "7. 8\n",
       "8. 13\n",
       "9. 21\n",
       "10. 34\n",
       "\n",
       "\n"
      ],
      "text/plain": [
       " [1]  0  1  1  2  3  5  8 13 21 34"
      ]
     },
     "metadata": {},
     "output_type": "display_data"
    }
   ],
   "source": [
    "# fibonacci sequence\n",
    "\n",
    "fibo <- function(length){\n",
    "    f <- 1:length\n",
    "    for (i in 1:length){\n",
    "            if (i == 1){\n",
    "                f[i] <- 0\n",
    "            } else if (i == 2){\n",
    "                f[i] <- 1\n",
    "            } else {\n",
    "                f[i] <- f[i-1]+f[i-2]\n",
    "            }\n",
    "    }\n",
    "    return(f)\n",
    "} \n",
    "\n",
    "# test\n",
    "(fibo(10))"
   ]
  },
  {
   "cell_type": "code",
   "execution_count": 8,
   "metadata": {
    "collapsed": true
   },
   "outputs": [],
   "source": [
    "# generate fibonacci set\n",
    "fibo_seq <- fibo(24)"
   ]
  },
  {
   "cell_type": "code",
   "execution_count": 9,
   "metadata": {},
   "outputs": [
    {
     "name": "stdout",
     "output_type": "stream",
     "text": [
      "\n",
      "Spearman test of Hubble distances with Fibonacci sequence\n",
      "----------------------------------\n"
     ]
    },
    {
     "name": "stderr",
     "output_type": "stream",
     "text": [
      "Warning message in cor.test.default(data$dist, fibo_seq, method = \"spearman\"):\n",
      "\"Cannot compute exact p-value with ties\""
     ]
    },
    {
     "data": {
      "text/plain": [
       "\n",
       "\tSpearman's rank correlation rho\n",
       "\n",
       "data:  data$dist and fibo_seq\n",
       "S = 18.527, p-value < 2.2e-16\n",
       "alternative hypothesis: true rho is not equal to 0\n",
       "sample estimates:\n",
       "      rho \n",
       "0.9919449 \n"
      ]
     },
     "metadata": {},
     "output_type": "display_data"
    }
   ],
   "source": [
    "# test the nulhypothesis\n",
    "\n",
    "cat('\\nSpearman test of Hubble distances with Fibonacci sequence\\n----------------------------------\\n')\n",
    "(test_hub <- cor.test(data$dist,fibo_seq, method=\"spearman\"))"
   ]
  },
  {
   "cell_type": "code",
   "execution_count": 10,
   "metadata": {},
   "outputs": [
    {
     "data": {
      "image/png": "[encoded data removed]",
      "text/plain": [
       "plot without title"
      ]
     },
     "metadata": {},
     "output_type": "display_data"
    }
   ],
   "source": [
    "# plot the data against the index\n",
    "# the sequences are normalised to their maximum values\n",
    "\n",
    "index <- 1:24\n",
    "plot(index,data$dist/max(data$dist),ylab='Normalised value')\n",
    "points(1:24,data$vel/max(data$vel),col='red')\n",
    "points(1:24,fibo_seq/max(fibo_seq),col='green')\n",
    "\n",
    "# legend\n",
    "legend(\"topleft\", legend=c('Hubble distance measurements','Hubble velocity measurements','Fibonacci sequence'), inset=.05, \n",
    "       lwd=2, col=c('black','red','green'))"
   ]
  },
  {
   "cell_type": "markdown",
   "metadata": {},
   "source": [
    "### 9.3 Bayesian model comparison: Is there evidence for a non-zero gradient?\n",
    "\n",
    "This exercise is a copy of the problem discussed in section 11.3 in the book of Coryn Bailer-Jones (see book chapter on Moodle). Read the section, and re-do the model comparison described there!\n",
    "Different from the problem in the section, the files gradient10.dat and gradient50.dat (see Moodle) contain new $(x, y)$ data sets for the (in \n",
    "total five each) lines to be analyzed. The coefficients of the straight lines have changed a little bit, and are kept secret here. However, the priors that Coryn specifies are still applicable, except for $a_0$ where $P(a_0) \\sim N(1, 1)$ should be used. You are expected to provide your own R-implementation of the problem, but - of course - you can study the code given in the book for inspiration. The result should be similar to what is given in the book. Can you confirm this?"
   ]
  },
  {
   "cell_type": "markdown",
   "metadata": {},
   "source": [
    "We can evaluate the two models (zero gradient or non-zero gradient) using Bayes factor $B_{12}$,\n",
    "\n",
    "$$\n",
    "B_{12} = \\frac{P(D|M_1)}{P(D|M_2)},\n",
    "$$\n",
    "\n",
    "where $D$ denotes the data, and $M_1$ and $M_2$ the two models. \n",
    "The marginal likelihoods for the Bayes factor can be computed numerically, wherein\n",
    "\n",
    "$$\n",
    "P(D|M)\\approx \\frac{1}{N_s} \\sum_{l=1}^{l=N_s} P(D|\\theta_l,M).\n",
    "$$\n",
    "\n",
    "Here, $N_s$ number of samples, and $\\theta_l$ are drawn from the respective prior. \n",
    "\n",
    "Model 1 is that of a straight line with a zero gadient. Thus,\n",
    "$$\n",
    "y = b_0.\n",
    "$$\n",
    "\n",
    "The model with a non-zero gradient is given by\n",
    "$$\n",
    "y = b_0 + (\\mathrm{tan}\\ \\alpha)x.\n",
    "$$\n",
    "\n",
    "Herein, we use a guassian prior for $b_0$ with mean zero and standard deviation zero, and uniform priors for $\\alpha$ in $[-\\pi/2,\\pi/2]$ and the logarithm of the standard deviation of the gaussian likelihood function $\\log \\sigma$. "
   ]
  },
  {
   "cell_type": "code",
   "execution_count": 103,
   "metadata": {},
   "outputs": [
    {
     "data": {
      "text/html": [
       "<table>\n",
       "<thead><tr><th scope=col>x1</th><th scope=col>y1</th><th scope=col>x2</th><th scope=col>y2</th><th scope=col>x3</th><th scope=col>y3</th><th scope=col>x4</th><th scope=col>y4</th><th scope=col>x5</th><th scope=col>y5</th></tr></thead>\n",
       "<tbody>\n",
       "\t<tr><td>0.7370421  </td><td> 0.5076803 </td><td>2.0680320  </td><td> 1.02741742</td><td>8.258134   </td><td> 1.5552934 </td><td>5.0763902  </td><td> 1.5988832 </td><td>6.196814   </td><td>-1.8510273 </td></tr>\n",
       "\t<tr><td>9.9862200  </td><td>-1.1229419 </td><td>0.3674223  </td><td> 0.75132431</td><td>4.723582   </td><td> 0.4145978 </td><td>0.9155857  </td><td> 1.1325733 </td><td>8.494212   </td><td>-2.2715941 </td></tr>\n",
       "\t<tr><td>6.9177968  </td><td> 1.6410877 </td><td>6.1735632  </td><td>-0.05634341</td><td>2.336220   </td><td> 1.4536253 </td><td>4.4952805  </td><td> 1.0285311 </td><td>2.022420   </td><td> 0.7125291 </td></tr>\n",
       "\t<tr><td>8.2198339  </td><td> 0.2917984 </td><td>2.8412474  </td><td> 0.05562217</td><td>6.185071   </td><td>-2.0996459 </td><td>7.5518482  </td><td> 0.1463062 </td><td>4.414770   </td><td>-0.4347991 </td></tr>\n",
       "\t<tr><td>4.1106180  </td><td>-0.7687210 </td><td>6.6552361  </td><td> 1.56461068</td><td>2.689930   </td><td>-0.9505907 </td><td>8.0088304  </td><td> 0.1551587 </td><td>5.198799   </td><td>-0.2627402 </td></tr>\n",
       "\t<tr><td>7.5209267  </td><td> 0.3613838 </td><td>9.4857645  </td><td>-1.48101336</td><td>1.018042   </td><td> 1.5540351 </td><td>6.4614092  </td><td>-0.2657260 </td><td>2.572161   </td><td> 2.1764997 </td></tr>\n",
       "</tbody>\n",
       "</table>\n"
      ],
      "text/latex": [
       "\\begin{tabular}{r|llllllllll}\n",
       " x1 & y1 & x2 & y2 & x3 & y3 & x4 & y4 & x5 & y5\\\\\n",
       "\\hline\n",
       "\t 0.7370421   &  0.5076803  & 2.0680320   &  1.02741742 & 8.258134    &  1.5552934  & 5.0763902   &  1.5988832  & 6.196814    & -1.8510273 \\\\\n",
       "\t 9.9862200   & -1.1229419  & 0.3674223   &  0.75132431 & 4.723582    &  0.4145978  & 0.9155857   &  1.1325733  & 8.494212    & -2.2715941 \\\\\n",
       "\t 6.9177968   &  1.6410877  & 6.1735632   & -0.05634341 & 2.336220    &  1.4536253  & 4.4952805   &  1.0285311  & 2.022420    &  0.7125291 \\\\\n",
       "\t 8.2198339   &  0.2917984  & 2.8412474   &  0.05562217 & 6.185071    & -2.0996459  & 7.5518482   &  0.1463062  & 4.414770    & -0.4347991 \\\\\n",
       "\t 4.1106180   & -0.7687210  & 6.6552361   &  1.56461068 & 2.689930    & -0.9505907  & 8.0088304   &  0.1551587  & 5.198799    & -0.2627402 \\\\\n",
       "\t 7.5209267   &  0.3613838  & 9.4857645   & -1.48101336 & 1.018042    &  1.5540351  & 6.4614092   & -0.2657260  & 2.572161    &  2.1764997 \\\\\n",
       "\\end{tabular}\n"
      ],
      "text/markdown": [
       "\n",
       "x1 | y1 | x2 | y2 | x3 | y3 | x4 | y4 | x5 | y5 | \n",
       "|---|---|---|---|---|---|\n",
       "| 0.7370421   |  0.5076803  | 2.0680320   |  1.02741742 | 8.258134    |  1.5552934  | 5.0763902   |  1.5988832  | 6.196814    | -1.8510273  | \n",
       "| 9.9862200   | -1.1229419  | 0.3674223   |  0.75132431 | 4.723582    |  0.4145978  | 0.9155857   |  1.1325733  | 8.494212    | -2.2715941  | \n",
       "| 6.9177968   |  1.6410877  | 6.1735632   | -0.05634341 | 2.336220    |  1.4536253  | 4.4952805   |  1.0285311  | 2.022420    |  0.7125291  | \n",
       "| 8.2198339   |  0.2917984  | 2.8412474   |  0.05562217 | 6.185071    | -2.0996459  | 7.5518482   |  0.1463062  | 4.414770    | -0.4347991  | \n",
       "| 4.1106180   | -0.7687210  | 6.6552361   |  1.56461068 | 2.689930    | -0.9505907  | 8.0088304   |  0.1551587  | 5.198799    | -0.2627402  | \n",
       "| 7.5209267   |  0.3613838  | 9.4857645   | -1.48101336 | 1.018042    |  1.5540351  | 6.4614092   | -0.2657260  | 2.572161    |  2.1764997  | \n",
       "\n",
       "\n"
      ],
      "text/plain": [
       "  x1        y1         x2        y2          x3       y3         x4       \n",
       "1 0.7370421  0.5076803 2.0680320  1.02741742 8.258134  1.5552934 5.0763902\n",
       "2 9.9862200 -1.1229419 0.3674223  0.75132431 4.723582  0.4145978 0.9155857\n",
       "3 6.9177968  1.6410877 6.1735632 -0.05634341 2.336220  1.4536253 4.4952805\n",
       "4 8.2198339  0.2917984 2.8412474  0.05562217 6.185071 -2.0996459 7.5518482\n",
       "5 4.1106180 -0.7687210 6.6552361  1.56461068 2.689930 -0.9505907 8.0088304\n",
       "6 7.5209267  0.3613838 9.4857645 -1.48101336 1.018042  1.5540351 6.4614092\n",
       "  y4         x5       y5        \n",
       "1  1.5988832 6.196814 -1.8510273\n",
       "2  1.1325733 8.494212 -2.2715941\n",
       "3  1.0285311 2.022420  0.7125291\n",
       "4  0.1463062 4.414770 -0.4347991\n",
       "5  0.1551587 5.198799 -0.2627402\n",
       "6 -0.2657260 2.572161  2.1764997"
      ]
     },
     "metadata": {},
     "output_type": "display_data"
    },
    {
     "data": {
      "text/html": [
       "<table>\n",
       "<thead><tr><th scope=col>x1</th><th scope=col>y1</th><th scope=col>x2</th><th scope=col>y2</th><th scope=col>x3</th><th scope=col>y3</th><th scope=col>x4</th><th scope=col>y4</th><th scope=col>x5</th><th scope=col>y5</th></tr></thead>\n",
       "<tbody>\n",
       "\t<tr><td>8.271735   </td><td> 1.844524  </td><td>7.840315   </td><td> 0.4022219 </td><td>9.8862714  </td><td> 0.30071211</td><td>8.0810545  </td><td>-1.27192313</td><td>5.7021147  </td><td>-1.0167948 </td></tr>\n",
       "\t<tr><td>9.386926   </td><td>-1.664815  </td><td>5.147171   </td><td> 0.2293083 </td><td>8.5158300  </td><td> 0.27853899</td><td>4.1479026  </td><td> 0.05213472</td><td>0.3242692  </td><td> 0.2585535 </td></tr>\n",
       "\t<tr><td>3.355743   </td><td> 0.445063  </td><td>6.395592   </td><td>-0.1041772 </td><td>5.2614474  </td><td>-0.77671902</td><td>4.7564457  </td><td> 0.25564474</td><td>2.3273488  </td><td> 1.8834490 </td></tr>\n",
       "\t<tr><td>2.177478   </td><td> 1.275993  </td><td>9.677092   </td><td>-1.2359304 </td><td>8.3546809  </td><td>-0.03818035</td><td>6.2674083  </td><td> 0.53572832</td><td>8.3147977  </td><td>-1.4373437 </td></tr>\n",
       "\t<tr><td>4.876853   </td><td>-1.343113  </td><td>1.480085   </td><td> 0.7962320 </td><td>3.9962003  </td><td> 0.10403493</td><td>3.4999357  </td><td> 0.23477069</td><td>4.9326902  </td><td>-0.8034581 </td></tr>\n",
       "\t<tr><td>2.500323   </td><td>-0.398679  </td><td>7.778779   </td><td>-2.6004515 </td><td>0.9937834  </td><td> 0.49509469</td><td>0.9423114  </td><td>-0.20594091</td><td>7.4143344  </td><td>-1.6358653 </td></tr>\n",
       "</tbody>\n",
       "</table>\n"
      ],
      "text/latex": [
       "\\begin{tabular}{r|llllllllll}\n",
       " x1 & y1 & x2 & y2 & x3 & y3 & x4 & y4 & x5 & y5\\\\\n",
       "\\hline\n",
       "\t 8.271735    &  1.844524   & 7.840315    &  0.4022219  & 9.8862714   &  0.30071211 & 8.0810545   & -1.27192313 & 5.7021147   & -1.0167948 \\\\\n",
       "\t 9.386926    & -1.664815   & 5.147171    &  0.2293083  & 8.5158300   &  0.27853899 & 4.1479026   &  0.05213472 & 0.3242692   &  0.2585535 \\\\\n",
       "\t 3.355743    &  0.445063   & 6.395592    & -0.1041772  & 5.2614474   & -0.77671902 & 4.7564457   &  0.25564474 & 2.3273488   &  1.8834490 \\\\\n",
       "\t 2.177478    &  1.275993   & 9.677092    & -1.2359304  & 8.3546809   & -0.03818035 & 6.2674083   &  0.53572832 & 8.3147977   & -1.4373437 \\\\\n",
       "\t 4.876853    & -1.343113   & 1.480085    &  0.7962320  & 3.9962003   &  0.10403493 & 3.4999357   &  0.23477069 & 4.9326902   & -0.8034581 \\\\\n",
       "\t 2.500323    & -0.398679   & 7.778779    & -2.6004515  & 0.9937834   &  0.49509469 & 0.9423114   & -0.20594091 & 7.4143344   & -1.6358653 \\\\\n",
       "\\end{tabular}\n"
      ],
      "text/markdown": [
       "\n",
       "x1 | y1 | x2 | y2 | x3 | y3 | x4 | y4 | x5 | y5 | \n",
       "|---|---|---|---|---|---|\n",
       "| 8.271735    |  1.844524   | 7.840315    |  0.4022219  | 9.8862714   |  0.30071211 | 8.0810545   | -1.27192313 | 5.7021147   | -1.0167948  | \n",
       "| 9.386926    | -1.664815   | 5.147171    |  0.2293083  | 8.5158300   |  0.27853899 | 4.1479026   |  0.05213472 | 0.3242692   |  0.2585535  | \n",
       "| 3.355743    |  0.445063   | 6.395592    | -0.1041772  | 5.2614474   | -0.77671902 | 4.7564457   |  0.25564474 | 2.3273488   |  1.8834490  | \n",
       "| 2.177478    |  1.275993   | 9.677092    | -1.2359304  | 8.3546809   | -0.03818035 | 6.2674083   |  0.53572832 | 8.3147977   | -1.4373437  | \n",
       "| 4.876853    | -1.343113   | 1.480085    |  0.7962320  | 3.9962003   |  0.10403493 | 3.4999357   |  0.23477069 | 4.9326902   | -0.8034581  | \n",
       "| 2.500323    | -0.398679   | 7.778779    | -2.6004515  | 0.9937834   |  0.49509469 | 0.9423114   | -0.20594091 | 7.4143344   | -1.6358653  | \n",
       "\n",
       "\n"
      ],
      "text/plain": [
       "  x1       y1        x2       y2         x3        y3          x4       \n",
       "1 8.271735  1.844524 7.840315  0.4022219 9.8862714  0.30071211 8.0810545\n",
       "2 9.386926 -1.664815 5.147171  0.2293083 8.5158300  0.27853899 4.1479026\n",
       "3 3.355743  0.445063 6.395592 -0.1041772 5.2614474 -0.77671902 4.7564457\n",
       "4 2.177478  1.275993 9.677092 -1.2359304 8.3546809 -0.03818035 6.2674083\n",
       "5 4.876853 -1.343113 1.480085  0.7962320 3.9962003  0.10403493 3.4999357\n",
       "6 2.500323 -0.398679 7.778779 -2.6004515 0.9937834  0.49509469 0.9423114\n",
       "  y4          x5        y5        \n",
       "1 -1.27192313 5.7021147 -1.0167948\n",
       "2  0.05213472 0.3242692  0.2585535\n",
       "3  0.25564474 2.3273488  1.8834490\n",
       "4  0.53572832 8.3147977 -1.4373437\n",
       "5  0.23477069 4.9326902 -0.8034581\n",
       "6 -0.20594091 7.4143344 -1.6358653"
      ]
     },
     "metadata": {},
     "output_type": "display_data"
    }
   ],
   "source": [
    "## read in data\n",
    "grad10 <- read.table(\"gradient10.dat\", header=TRUE)\n",
    "grad50 <- read.table(\"gradient50.dat\", header=TRUE)\n",
    "\n",
    "# display a few rows of the data\n",
    "head(grad10)\n",
    "head(grad50)"
   ]
  },
  {
   "cell_type": "code",
   "execution_count": 124,
   "metadata": {},
   "outputs": [
    {
     "data": {
      "image/png": "[encoded data removed]",
      "text/plain": [
       "plot without title"
      ]
     },
     "metadata": {},
     "output_type": "display_data"
    }
   ],
   "source": [
    "## plot data\n",
    "\n",
    "# gradient 10 \n",
    "par(mfrow=c(1,1), mar=c(3.5,3.0,0.5,0.5), oma=0.5*c(1,1,1,1), \n",
    "    mgp=c(2.2,0.8,0), cex=1.2)\n",
    "\n",
    "plot(grad10$x1,grad10$y1,xlim=c(0,9),ylim=c(0,2.5),xlab='x',ylab='y')\n",
    "\n",
    "for (i in 1:5){\n",
    "    points(grad10[,2*i-1],grad10[,2*i],col=i)\n",
    "}"
   ]
  },
  {
   "cell_type": "code",
   "execution_count": 125,
   "metadata": {},
   "outputs": [
    {
     "data": {
      "image/png": "[encoded data removed]",
      "text/plain": [
       "plot without title"
      ]
     },
     "metadata": {},
     "output_type": "display_data"
    }
   ],
   "source": [
    "# gradient 50 \n",
    "par(mfrow=c(1,1), mar=c(3.5,3.0,0.5,0.5), oma=0.5*c(1,1,1,1), \n",
    "    mgp=c(2.2,0.8,0), cex=1.2)\n",
    "\n",
    "plot(grad50$x1,grad50$y1,xlim=c(0,10),ylim=c(-4,4),xlab='x',ylab='y')\n",
    "\n",
    "for (i in 1:5){\n",
    "    points(grad50[,2*i-1],grad50[,2*i],col=i)\n",
    "}"
   ]
  },
  {
   "cell_type": "code",
   "execution_count": 200,
   "metadata": {
    "collapsed": true
   },
   "outputs": [],
   "source": [
    "# likelihood function \n",
    "marginal_likelihood <- function(sample){\n",
    "    sum(sample)/length(sample)\n",
    "}\n",
    "\n",
    "# Bayes factor\n",
    "bayes_factor <- function(mlh1,mlh2){\n",
    "    mlh1/mlh2\n",
    "}\n",
    "\n",
    "# straight line\n",
    "line <- function(b0,a,x){\n",
    "        b0 + tan(a)*x\n",
    "}\n",
    "\n",
    "# likelihood model 1\n",
    "lh_m1 <- function(x,y,paras){\n",
    "    b0 <- paras[1]\n",
    "    s <- 10**paras[3]\n",
    "    return(prod((s*(2*pi)**0.5)**-1*exp(-(y-b0)**2*0.5*s**-2)))\n",
    "}\n",
    "\n",
    "# ikelihood model 2\n",
    "lh_m2 <- function(x,y,paras){\n",
    "    b0 <- paras[1]\n",
    "    a <- paras[2]\n",
    "    s <- 10**paras[3]\n",
    "    return(prod((s*(2*pi)**0.5)**-1*exp(-(y-line(b0,a,x))**2*0.5*s**-2)))\n",
    "}"
   ]
  },
  {
   "cell_type": "code",
   "execution_count": 176,
   "metadata": {
    "collapsed": true
   },
   "outputs": [],
   "source": [
    "# generate random samples drawn from the prior\n",
    "# samples for b_0, alpha, log10(sigma)\n",
    "\n",
    "set.seed(100)\n",
    "Nsamp <- 1e5 # number of samples\n",
    "priorSamp <- cbind(rnorm(n=Nsamp, mean=1, sd=1), \n",
    "                   runif(n=Nsamp, min=-pi/2, max=pi/2),\n",
    "                   runif(n=Nsamp, min=log10(0.5), max=log10(2)))"
   ]
  },
  {
   "cell_type": "code",
   "execution_count": 220,
   "metadata": {
    "collapsed": true
   },
   "outputs": [],
   "source": [
    "#### compute marginal likelihoods for gradient 10 set\n",
    "\n",
    "# model 1\n",
    "mlhs10_m1 <- 1:5\n",
    "\n",
    "# model 2\n",
    "mlhs10_m2 <- 1:5\n",
    "\n",
    "for (i in 1:5){\n",
    "    mlhs10_m1[i] <- marginal_likelihood(apply(priorSamp,1,lh_m1,x=grad10[,2*i-1],y=grad10[,2*i]))\n",
    "    mlhs10_m2[i] <- marginal_likelihood(apply(priorSamp,1,lh_m2,x=grad10[,2*i-1],y=grad10[,2*i]))\n",
    "}\n",
    "\n",
    "#### bayes factor for gradient 10 set\n",
    "bf10 <- bayes_factor(mlhs10_m1,mlhs10_m2)\n",
    "\n",
    "#### compute marginal likelihoods for gradient 50 set\n",
    "\n",
    "# model 1\n",
    "mlhs50_m1 <- 1:5\n",
    "\n",
    "# model 2\n",
    "mlhs50_m2 <- 1:5\n",
    "\n",
    "for (i in 1:5){\n",
    "    mlhs50_m1[i] <- marginal_likelihood(apply(priorSamp,1,lh_m1,x=grad50[,2*i-1],y=grad50[,2*i]))\n",
    "    mlhs50_m2[i] <- marginal_likelihood(apply(priorSamp,1,lh_m2,x=grad50[,2*i-1],y=grad50[,2*i]))\n",
    "}\n",
    "\n",
    "#### bayes factor for gradient 50 set\n",
    "bf50 <- bayes_factor(mlhs50_m1,mlhs50_m2)"
   ]
  },
  {
   "cell_type": "code",
   "execution_count": 221,
   "metadata": {},
   "outputs": [
    {
     "name": "stdout",
     "output_type": "stream",
     "text": [
      "BF_12           |  1     2     3     4     5 \n",
      "------------------------------------------------- \n",
      "gradient10 set  |  6.582 4.099 6.517 2.034 2.352 \n",
      "gradient50 set  |  0.118 0.003 1.698 0.001 0.002 \n"
     ]
    }
   ],
   "source": [
    "# print results\n",
    "cat(\"BF_12           | \", \"1     2     3     4     5\", \"\\n\")\n",
    "cat(\"-------------------------------------------------\", \"\\n\")\n",
    "cat(\"gradient10 set  | \", round(bf10,3), \"\\n\")\n",
    "cat(\"gradient50 set  | \", round(bf50,3), \"\\n\")\n"
   ]
  },
  {
   "cell_type": "code",
   "execution_count": null,
   "metadata": {
    "collapsed": true
   },
   "outputs": [],
   "source": []
  }
 ],
 "metadata": {
  "anaconda-cloud": {},
  "kernelspec": {
   "display_name": "R",
   "language": "R",
   "name": "ir"
  },
  "language_info": {
   "codemirror_mode": "r",
   "file_extension": ".r",
   "mimetype": "text/x-r-source",
   "name": "R",
   "pygments_lexer": "r",
   "version": "3.5.1"
  }
 },
 "nbformat": 4,
 "nbformat_minor": 2
}
